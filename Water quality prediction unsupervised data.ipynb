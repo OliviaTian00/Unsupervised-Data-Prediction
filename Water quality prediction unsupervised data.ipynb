{
 "cells": [
  {
   "cell_type": "markdown",
   "id": "fed7631f",
   "metadata": {},
   "source": [
    "Safe water unsupervised machine learning"
   ]
  },
  {
   "cell_type": "code",
   "execution_count": 4,
   "id": "a36a1871",
   "metadata": {},
   "outputs": [],
   "source": [
    "import numpy as np\n",
    "import pandas as pd\n",
    "\n",
    "%matplotlib inline\n",
    "import matplotlib.pyplot as plt\n",
    "\n",
    "from sklearn import datasets\n",
    "import seaborn as sns"
   ]
  },
  {
   "cell_type": "code",
   "execution_count": 5,
   "id": "63fa77b9",
   "metadata": {},
   "outputs": [],
   "source": [
    "wa=pd.read_csv(r'water.csv')"
   ]
  },
  {
   "cell_type": "code",
   "execution_count": 6,
   "id": "3664f8b7",
   "metadata": {},
   "outputs": [
    {
     "data": {
      "text/plain": [
       "(7999, 21)"
      ]
     },
     "execution_count": 6,
     "metadata": {},
     "output_type": "execute_result"
    }
   ],
   "source": [
    "wa.shape"
   ]
  },
  {
   "cell_type": "code",
   "execution_count": 7,
   "id": "0317be07",
   "metadata": {},
   "outputs": [
    {
     "data": {
      "text/plain": [
       "aluminium      0\n",
       "ammonia        0\n",
       "arsenic        0\n",
       "barium         0\n",
       "cadmium        0\n",
       "chloramine     0\n",
       "chromium       0\n",
       "copper         0\n",
       "flouride       0\n",
       "bacteria       0\n",
       "viruses        0\n",
       "lead           0\n",
       "nitrates       0\n",
       "nitrites       0\n",
       "mercury        0\n",
       "perchlorate    0\n",
       "radium         0\n",
       "selenium       0\n",
       "silver         0\n",
       "uranium        0\n",
       "is_safe        0\n",
       "dtype: int64"
      ]
     },
     "execution_count": 7,
     "metadata": {},
     "output_type": "execute_result"
    }
   ],
   "source": [
    "wa.isnull().sum()"
   ]
  },
  {
   "cell_type": "code",
   "execution_count": 8,
   "id": "65ffa5a8",
   "metadata": {},
   "outputs": [
    {
     "name": "stdout",
     "output_type": "stream",
     "text": [
      "<class 'pandas.core.frame.DataFrame'>\n",
      "RangeIndex: 7999 entries, 0 to 7998\n",
      "Data columns (total 21 columns):\n",
      " #   Column       Non-Null Count  Dtype  \n",
      "---  ------       --------------  -----  \n",
      " 0   aluminium    7999 non-null   float64\n",
      " 1   ammonia      7999 non-null   object \n",
      " 2   arsenic      7999 non-null   float64\n",
      " 3   barium       7999 non-null   float64\n",
      " 4   cadmium      7999 non-null   float64\n",
      " 5   chloramine   7999 non-null   float64\n",
      " 6   chromium     7999 non-null   float64\n",
      " 7   copper       7999 non-null   float64\n",
      " 8   flouride     7999 non-null   float64\n",
      " 9   bacteria     7999 non-null   float64\n",
      " 10  viruses      7999 non-null   float64\n",
      " 11  lead         7999 non-null   float64\n",
      " 12  nitrates     7999 non-null   float64\n",
      " 13  nitrites     7999 non-null   float64\n",
      " 14  mercury      7999 non-null   float64\n",
      " 15  perchlorate  7999 non-null   float64\n",
      " 16  radium       7999 non-null   float64\n",
      " 17  selenium     7999 non-null   float64\n",
      " 18  silver       7999 non-null   float64\n",
      " 19  uranium      7999 non-null   float64\n",
      " 20  is_safe      7999 non-null   object \n",
      "dtypes: float64(19), object(2)\n",
      "memory usage: 1.3+ MB\n"
     ]
    }
   ],
   "source": [
    "wa.info()"
   ]
  },
  {
   "cell_type": "code",
   "execution_count": 9,
   "id": "e41fa744",
   "metadata": {},
   "outputs": [
    {
     "data": {
      "text/html": [
       "<div>\n",
       "<style scoped>\n",
       "    .dataframe tbody tr th:only-of-type {\n",
       "        vertical-align: middle;\n",
       "    }\n",
       "\n",
       "    .dataframe tbody tr th {\n",
       "        vertical-align: top;\n",
       "    }\n",
       "\n",
       "    .dataframe thead th {\n",
       "        text-align: right;\n",
       "    }\n",
       "</style>\n",
       "<table border=\"1\" class=\"dataframe\">\n",
       "  <thead>\n",
       "    <tr style=\"text-align: right;\">\n",
       "      <th></th>\n",
       "      <th>ammonia</th>\n",
       "      <th>is_safe</th>\n",
       "    </tr>\n",
       "  </thead>\n",
       "  <tbody>\n",
       "    <tr>\n",
       "      <th>7551</th>\n",
       "      <td>#NUM!</td>\n",
       "      <td>#NUM!</td>\n",
       "    </tr>\n",
       "    <tr>\n",
       "      <th>7568</th>\n",
       "      <td>#NUM!</td>\n",
       "      <td>#NUM!</td>\n",
       "    </tr>\n",
       "    <tr>\n",
       "      <th>7890</th>\n",
       "      <td>#NUM!</td>\n",
       "      <td>#NUM!</td>\n",
       "    </tr>\n",
       "  </tbody>\n",
       "</table>\n",
       "</div>"
      ],
      "text/plain": [
       "     ammonia is_safe\n",
       "7551   #NUM!   #NUM!\n",
       "7568   #NUM!   #NUM!\n",
       "7890   #NUM!   #NUM!"
      ]
     },
     "execution_count": 9,
     "metadata": {},
     "output_type": "execute_result"
    }
   ],
   "source": [
    "wa[wa['ammonia']=='#NUM!'][['ammonia','is_safe']]\n"
   ]
  },
  {
   "cell_type": "code",
   "execution_count": 10,
   "id": "dc920f49",
   "metadata": {},
   "outputs": [
    {
     "name": "stdout",
     "output_type": "stream",
     "text": [
      "dataset has 7996 valid data, \"ammonia\" columns has change type as float64, \"is_safe\" columns has change type as int32\n"
     ]
    }
   ],
   "source": [
    "# delete 3 data contain '#NUM!'\n",
    "#change festures'type to numberic\n",
    "wa=wa[wa['ammonia']!='#NUM!']\n",
    "wa['ammonia']=wa['ammonia'].astype(np.float64)\n",
    "wa['is_safe']=wa['is_safe'].astype(int)\n",
    "print('dataset has %s valid data, \"ammonia\" columns has change type as %s, \"is_safe\" columns has change type as %s'\n",
    "      %(wa['ammonia'].shape[0],wa['ammonia'].dtypes,wa['is_safe'].dtypes ))"
   ]
  },
  {
   "cell_type": "code",
   "execution_count": 11,
   "id": "1bb7b936",
   "metadata": {},
   "outputs": [
    {
     "data": {
      "image/png": "[encoded data removed]",
      "text/plain": [
       "<Figure size 432x288 with 1 Axes>"
      ]
     },
     "metadata": {},
     "output_type": "display_data"
    }
   ],
   "source": [
    "#0-not safe\n",
    "#1-safe\n",
    "label=['not safe','safe']\n",
    "color=['pink','yellow']\n",
    "number=[7084,912]\n",
    "plt.pie(number, colors=color,labels=label,autopct='%0.1f%%',labeldistance=0.22, textprops={'fontsize': 14})\n",
    "plt.show()"
   ]
  },
  {
   "cell_type": "code",
   "execution_count": 12,
   "id": "25bb0b34",
   "metadata": {},
   "outputs": [
    {
     "data": {
      "text/html": [
       "<div>\n",
       "<style scoped>\n",
       "    .dataframe tbody tr th:only-of-type {\n",
       "        vertical-align: middle;\n",
       "    }\n",
       "\n",
       "    .dataframe tbody tr th {\n",
       "        vertical-align: top;\n",
       "    }\n",
       "\n",
       "    .dataframe thead th {\n",
       "        text-align: right;\n",
       "    }\n",
       "</style>\n",
       "<table border=\"1\" class=\"dataframe\">\n",
       "  <thead>\n",
       "    <tr style=\"text-align: right;\">\n",
       "      <th></th>\n",
       "      <th>aluminium</th>\n",
       "      <th>ammonia</th>\n",
       "      <th>arsenic</th>\n",
       "      <th>barium</th>\n",
       "      <th>cadmium</th>\n",
       "      <th>chloramine</th>\n",
       "      <th>chromium</th>\n",
       "      <th>copper</th>\n",
       "      <th>flouride</th>\n",
       "      <th>bacteria</th>\n",
       "      <th>...</th>\n",
       "      <th>lead</th>\n",
       "      <th>nitrates</th>\n",
       "      <th>nitrites</th>\n",
       "      <th>mercury</th>\n",
       "      <th>perchlorate</th>\n",
       "      <th>radium</th>\n",
       "      <th>selenium</th>\n",
       "      <th>silver</th>\n",
       "      <th>uranium</th>\n",
       "      <th>is_safe</th>\n",
       "    </tr>\n",
       "  </thead>\n",
       "  <tbody>\n",
       "    <tr>\n",
       "      <th>count</th>\n",
       "      <td>7996.000000</td>\n",
       "      <td>7996.000000</td>\n",
       "      <td>7996.000000</td>\n",
       "      <td>7996.000000</td>\n",
       "      <td>7996.000000</td>\n",
       "      <td>7996.000000</td>\n",
       "      <td>7996.000000</td>\n",
       "      <td>7996.000000</td>\n",
       "      <td>7996.000000</td>\n",
       "      <td>7996.000000</td>\n",
       "      <td>...</td>\n",
       "      <td>7996.000000</td>\n",
       "      <td>7996.000000</td>\n",
       "      <td>7996.000000</td>\n",
       "      <td>7996.000000</td>\n",
       "      <td>7996.000000</td>\n",
       "      <td>7996.000000</td>\n",
       "      <td>7996.000000</td>\n",
       "      <td>7996.000000</td>\n",
       "      <td>7996.000000</td>\n",
       "      <td>7996.000000</td>\n",
       "    </tr>\n",
       "    <tr>\n",
       "      <th>mean</th>\n",
       "      <td>0.666396</td>\n",
       "      <td>14.278212</td>\n",
       "      <td>0.161477</td>\n",
       "      <td>1.567928</td>\n",
       "      <td>0.042803</td>\n",
       "      <td>2.177589</td>\n",
       "      <td>0.247300</td>\n",
       "      <td>0.805940</td>\n",
       "      <td>0.771646</td>\n",
       "      <td>0.319714</td>\n",
       "      <td>...</td>\n",
       "      <td>0.099431</td>\n",
       "      <td>9.819250</td>\n",
       "      <td>1.329846</td>\n",
       "      <td>0.005193</td>\n",
       "      <td>16.465266</td>\n",
       "      <td>2.920106</td>\n",
       "      <td>0.049684</td>\n",
       "      <td>0.147811</td>\n",
       "      <td>0.044672</td>\n",
       "      <td>0.114057</td>\n",
       "    </tr>\n",
       "    <tr>\n",
       "      <th>std</th>\n",
       "      <td>1.265323</td>\n",
       "      <td>8.878930</td>\n",
       "      <td>0.252632</td>\n",
       "      <td>1.216227</td>\n",
       "      <td>0.036049</td>\n",
       "      <td>2.567210</td>\n",
       "      <td>0.270663</td>\n",
       "      <td>0.653595</td>\n",
       "      <td>0.435423</td>\n",
       "      <td>0.329497</td>\n",
       "      <td>...</td>\n",
       "      <td>0.058169</td>\n",
       "      <td>5.541977</td>\n",
       "      <td>0.573271</td>\n",
       "      <td>0.002967</td>\n",
       "      <td>17.688827</td>\n",
       "      <td>2.322805</td>\n",
       "      <td>0.028773</td>\n",
       "      <td>0.143569</td>\n",
       "      <td>0.026906</td>\n",
       "      <td>0.317900</td>\n",
       "    </tr>\n",
       "    <tr>\n",
       "      <th>min</th>\n",
       "      <td>0.000000</td>\n",
       "      <td>-0.080000</td>\n",
       "      <td>0.000000</td>\n",
       "      <td>0.000000</td>\n",
       "      <td>0.000000</td>\n",
       "      <td>0.000000</td>\n",
       "      <td>0.000000</td>\n",
       "      <td>0.000000</td>\n",
       "      <td>0.000000</td>\n",
       "      <td>0.000000</td>\n",
       "      <td>...</td>\n",
       "      <td>0.000000</td>\n",
       "      <td>0.000000</td>\n",
       "      <td>0.000000</td>\n",
       "      <td>0.000000</td>\n",
       "      <td>0.000000</td>\n",
       "      <td>0.000000</td>\n",
       "      <td>0.000000</td>\n",
       "      <td>0.000000</td>\n",
       "      <td>0.000000</td>\n",
       "      <td>0.000000</td>\n",
       "    </tr>\n",
       "    <tr>\n",
       "      <th>25%</th>\n",
       "      <td>0.040000</td>\n",
       "      <td>6.577500</td>\n",
       "      <td>0.030000</td>\n",
       "      <td>0.560000</td>\n",
       "      <td>0.008000</td>\n",
       "      <td>0.100000</td>\n",
       "      <td>0.050000</td>\n",
       "      <td>0.090000</td>\n",
       "      <td>0.407500</td>\n",
       "      <td>0.000000</td>\n",
       "      <td>...</td>\n",
       "      <td>0.048000</td>\n",
       "      <td>5.000000</td>\n",
       "      <td>1.000000</td>\n",
       "      <td>0.003000</td>\n",
       "      <td>2.170000</td>\n",
       "      <td>0.820000</td>\n",
       "      <td>0.020000</td>\n",
       "      <td>0.040000</td>\n",
       "      <td>0.020000</td>\n",
       "      <td>0.000000</td>\n",
       "    </tr>\n",
       "    <tr>\n",
       "      <th>50%</th>\n",
       "      <td>0.070000</td>\n",
       "      <td>14.130000</td>\n",
       "      <td>0.050000</td>\n",
       "      <td>1.190000</td>\n",
       "      <td>0.040000</td>\n",
       "      <td>0.530000</td>\n",
       "      <td>0.090000</td>\n",
       "      <td>0.750000</td>\n",
       "      <td>0.770000</td>\n",
       "      <td>0.220000</td>\n",
       "      <td>...</td>\n",
       "      <td>0.102000</td>\n",
       "      <td>9.930000</td>\n",
       "      <td>1.420000</td>\n",
       "      <td>0.005000</td>\n",
       "      <td>7.745000</td>\n",
       "      <td>2.410000</td>\n",
       "      <td>0.050000</td>\n",
       "      <td>0.080000</td>\n",
       "      <td>0.050000</td>\n",
       "      <td>0.000000</td>\n",
       "    </tr>\n",
       "    <tr>\n",
       "      <th>75%</th>\n",
       "      <td>0.280000</td>\n",
       "      <td>22.132500</td>\n",
       "      <td>0.100000</td>\n",
       "      <td>2.482500</td>\n",
       "      <td>0.070000</td>\n",
       "      <td>4.240000</td>\n",
       "      <td>0.440000</td>\n",
       "      <td>1.390000</td>\n",
       "      <td>1.160000</td>\n",
       "      <td>0.610000</td>\n",
       "      <td>...</td>\n",
       "      <td>0.151000</td>\n",
       "      <td>14.610000</td>\n",
       "      <td>1.760000</td>\n",
       "      <td>0.008000</td>\n",
       "      <td>29.487500</td>\n",
       "      <td>4.670000</td>\n",
       "      <td>0.070000</td>\n",
       "      <td>0.240000</td>\n",
       "      <td>0.070000</td>\n",
       "      <td>0.000000</td>\n",
       "    </tr>\n",
       "    <tr>\n",
       "      <th>max</th>\n",
       "      <td>5.050000</td>\n",
       "      <td>29.840000</td>\n",
       "      <td>1.050000</td>\n",
       "      <td>4.940000</td>\n",
       "      <td>0.130000</td>\n",
       "      <td>8.680000</td>\n",
       "      <td>0.900000</td>\n",
       "      <td>2.000000</td>\n",
       "      <td>1.500000</td>\n",
       "      <td>1.000000</td>\n",
       "      <td>...</td>\n",
       "      <td>0.200000</td>\n",
       "      <td>19.830000</td>\n",
       "      <td>2.930000</td>\n",
       "      <td>0.010000</td>\n",
       "      <td>60.010000</td>\n",
       "      <td>7.990000</td>\n",
       "      <td>0.100000</td>\n",
       "      <td>0.500000</td>\n",
       "      <td>0.090000</td>\n",
       "      <td>1.000000</td>\n",
       "    </tr>\n",
       "  </tbody>\n",
       "</table>\n",
       "<p>8 rows × 21 columns</p>\n",
       "</div>"
      ],
      "text/plain": [
       "         aluminium      ammonia      arsenic       barium      cadmium  \\\n",
       "count  7996.000000  7996.000000  7996.000000  7996.000000  7996.000000   \n",
       "mean      0.666396    14.278212     0.161477     1.567928     0.042803   \n",
       "std       1.265323     8.878930     0.252632     1.216227     0.036049   \n",
       "min       0.000000    -0.080000     0.000000     0.000000     0.000000   \n",
       "25%       0.040000     6.577500     0.030000     0.560000     0.008000   \n",
       "50%       0.070000    14.130000     0.050000     1.190000     0.040000   \n",
       "75%       0.280000    22.132500     0.100000     2.482500     0.070000   \n",
       "max       5.050000    29.840000     1.050000     4.940000     0.130000   \n",
       "\n",
       "        chloramine     chromium       copper     flouride     bacteria  ...  \\\n",
       "count  7996.000000  7996.000000  7996.000000  7996.000000  7996.000000  ...   \n",
       "mean      2.177589     0.247300     0.805940     0.771646     0.319714  ...   \n",
       "std       2.567210     0.270663     0.653595     0.435423     0.329497  ...   \n",
       "min       0.000000     0.000000     0.000000     0.000000     0.000000  ...   \n",
       "25%       0.100000     0.050000     0.090000     0.407500     0.000000  ...   \n",
       "50%       0.530000     0.090000     0.750000     0.770000     0.220000  ...   \n",
       "75%       4.240000     0.440000     1.390000     1.160000     0.610000  ...   \n",
       "max       8.680000     0.900000     2.000000     1.500000     1.000000  ...   \n",
       "\n",
       "              lead     nitrates     nitrites      mercury  perchlorate  \\\n",
       "count  7996.000000  7996.000000  7996.000000  7996.000000  7996.000000   \n",
       "mean      0.099431     9.819250     1.329846     0.005193    16.465266   \n",
       "std       0.058169     5.541977     0.573271     0.002967    17.688827   \n",
       "min       0.000000     0.000000     0.000000     0.000000     0.000000   \n",
       "25%       0.048000     5.000000     1.000000     0.003000     2.170000   \n",
       "50%       0.102000     9.930000     1.420000     0.005000     7.745000   \n",
       "75%       0.151000    14.610000     1.760000     0.008000    29.487500   \n",
       "max       0.200000    19.830000     2.930000     0.010000    60.010000   \n",
       "\n",
       "            radium     selenium       silver      uranium      is_safe  \n",
       "count  7996.000000  7996.000000  7996.000000  7996.000000  7996.000000  \n",
       "mean      2.920106     0.049684     0.147811     0.044672     0.114057  \n",
       "std       2.322805     0.028773     0.143569     0.026906     0.317900  \n",
       "min       0.000000     0.000000     0.000000     0.000000     0.000000  \n",
       "25%       0.820000     0.020000     0.040000     0.020000     0.000000  \n",
       "50%       2.410000     0.050000     0.080000     0.050000     0.000000  \n",
       "75%       4.670000     0.070000     0.240000     0.070000     0.000000  \n",
       "max       7.990000     0.100000     0.500000     0.090000     1.000000  \n",
       "\n",
       "[8 rows x 21 columns]"
      ]
     },
     "execution_count": 12,
     "metadata": {},
     "output_type": "execute_result"
    }
   ],
   "source": [
    "wa.describe()"
   ]
  },
  {
   "cell_type": "code",
   "execution_count": 13,
   "id": "f6aa1908",
   "metadata": {},
   "outputs": [
    {
     "data": {
      "text/plain": [
       "1503   -0.01\n",
       "1552   -0.07\n",
       "1569   -0.03\n",
       "1698   -0.08\n",
       "1891   -0.01\n",
       "3503   -0.01\n",
       "3552   -0.07\n",
       "3569   -0.03\n",
       "3698   -0.08\n",
       "3891   -0.01\n",
       "Name: ammonia, dtype: float64"
      ]
     },
     "execution_count": 13,
     "metadata": {},
     "output_type": "execute_result"
    }
   ],
   "source": [
    "# 10 data has negative 'ammonia' value\n",
    "wa[wa['ammonia']<0]['ammonia']\n"
   ]
  },
  {
   "cell_type": "code",
   "execution_count": 14,
   "id": "82b1d479",
   "metadata": {},
   "outputs": [
    {
     "data": {
      "text/plain": [
       "Series([], Name: ammonia, dtype: float64)"
      ]
     },
     "execution_count": 14,
     "metadata": {},
     "output_type": "execute_result"
    }
   ],
   "source": [
    "# change negative 'ammonia' value to positive value, might need to reduce those features\n",
    "wa['ammonia']=wa['ammonia'].abs()\n",
    "wa[wa['ammonia']<0]['ammonia']"
   ]
  },
  {
   "cell_type": "code",
   "execution_count": 15,
   "id": "51251c84",
   "metadata": {},
   "outputs": [
    {
     "data": {
      "text/html": [
       "<div>\n",
       "<style scoped>\n",
       "    .dataframe tbody tr th:only-of-type {\n",
       "        vertical-align: middle;\n",
       "    }\n",
       "\n",
       "    .dataframe tbody tr th {\n",
       "        vertical-align: top;\n",
       "    }\n",
       "\n",
       "    .dataframe thead th {\n",
       "        text-align: right;\n",
       "    }\n",
       "</style>\n",
       "<table border=\"1\" class=\"dataframe\">\n",
       "  <thead>\n",
       "    <tr style=\"text-align: right;\">\n",
       "      <th></th>\n",
       "      <th>aluminium</th>\n",
       "      <th>ammonia</th>\n",
       "      <th>arsenic</th>\n",
       "      <th>barium</th>\n",
       "      <th>cadmium</th>\n",
       "      <th>chloramine</th>\n",
       "      <th>chromium</th>\n",
       "      <th>copper</th>\n",
       "      <th>flouride</th>\n",
       "      <th>bacteria</th>\n",
       "      <th>...</th>\n",
       "      <th>lead</th>\n",
       "      <th>nitrates</th>\n",
       "      <th>nitrites</th>\n",
       "      <th>mercury</th>\n",
       "      <th>perchlorate</th>\n",
       "      <th>radium</th>\n",
       "      <th>selenium</th>\n",
       "      <th>silver</th>\n",
       "      <th>uranium</th>\n",
       "      <th>is_safe</th>\n",
       "    </tr>\n",
       "  </thead>\n",
       "  <tbody>\n",
       "    <tr>\n",
       "      <th>count</th>\n",
       "      <td>7996.000000</td>\n",
       "      <td>7996.000000</td>\n",
       "      <td>7996.000000</td>\n",
       "      <td>7996.000000</td>\n",
       "      <td>7996.000000</td>\n",
       "      <td>7996.000000</td>\n",
       "      <td>7996.000000</td>\n",
       "      <td>7996.000000</td>\n",
       "      <td>7996.000000</td>\n",
       "      <td>7996.000000</td>\n",
       "      <td>...</td>\n",
       "      <td>7996.000000</td>\n",
       "      <td>7996.000000</td>\n",
       "      <td>7996.000000</td>\n",
       "      <td>7996.000000</td>\n",
       "      <td>7996.000000</td>\n",
       "      <td>7996.000000</td>\n",
       "      <td>7996.000000</td>\n",
       "      <td>7996.000000</td>\n",
       "      <td>7996.000000</td>\n",
       "      <td>7996.000000</td>\n",
       "    </tr>\n",
       "    <tr>\n",
       "      <th>mean</th>\n",
       "      <td>0.666396</td>\n",
       "      <td>14.278312</td>\n",
       "      <td>0.161477</td>\n",
       "      <td>1.567928</td>\n",
       "      <td>0.042803</td>\n",
       "      <td>2.177589</td>\n",
       "      <td>0.247300</td>\n",
       "      <td>0.805940</td>\n",
       "      <td>0.771646</td>\n",
       "      <td>0.319714</td>\n",
       "      <td>...</td>\n",
       "      <td>0.099431</td>\n",
       "      <td>9.819250</td>\n",
       "      <td>1.329846</td>\n",
       "      <td>0.005193</td>\n",
       "      <td>16.465266</td>\n",
       "      <td>2.920106</td>\n",
       "      <td>0.049684</td>\n",
       "      <td>0.147811</td>\n",
       "      <td>0.044672</td>\n",
       "      <td>0.114057</td>\n",
       "    </tr>\n",
       "    <tr>\n",
       "      <th>std</th>\n",
       "      <td>1.265323</td>\n",
       "      <td>8.878769</td>\n",
       "      <td>0.252632</td>\n",
       "      <td>1.216227</td>\n",
       "      <td>0.036049</td>\n",
       "      <td>2.567210</td>\n",
       "      <td>0.270663</td>\n",
       "      <td>0.653595</td>\n",
       "      <td>0.435423</td>\n",
       "      <td>0.329497</td>\n",
       "      <td>...</td>\n",
       "      <td>0.058169</td>\n",
       "      <td>5.541977</td>\n",
       "      <td>0.573271</td>\n",
       "      <td>0.002967</td>\n",
       "      <td>17.688827</td>\n",
       "      <td>2.322805</td>\n",
       "      <td>0.028773</td>\n",
       "      <td>0.143569</td>\n",
       "      <td>0.026906</td>\n",
       "      <td>0.317900</td>\n",
       "    </tr>\n",
       "    <tr>\n",
       "      <th>min</th>\n",
       "      <td>0.000000</td>\n",
       "      <td>0.000000</td>\n",
       "      <td>0.000000</td>\n",
       "      <td>0.000000</td>\n",
       "      <td>0.000000</td>\n",
       "      <td>0.000000</td>\n",
       "      <td>0.000000</td>\n",
       "      <td>0.000000</td>\n",
       "      <td>0.000000</td>\n",
       "      <td>0.000000</td>\n",
       "      <td>...</td>\n",
       "      <td>0.000000</td>\n",
       "      <td>0.000000</td>\n",
       "      <td>0.000000</td>\n",
       "      <td>0.000000</td>\n",
       "      <td>0.000000</td>\n",
       "      <td>0.000000</td>\n",
       "      <td>0.000000</td>\n",
       "      <td>0.000000</td>\n",
       "      <td>0.000000</td>\n",
       "      <td>0.000000</td>\n",
       "    </tr>\n",
       "    <tr>\n",
       "      <th>25%</th>\n",
       "      <td>0.040000</td>\n",
       "      <td>6.577500</td>\n",
       "      <td>0.030000</td>\n",
       "      <td>0.560000</td>\n",
       "      <td>0.008000</td>\n",
       "      <td>0.100000</td>\n",
       "      <td>0.050000</td>\n",
       "      <td>0.090000</td>\n",
       "      <td>0.407500</td>\n",
       "      <td>0.000000</td>\n",
       "      <td>...</td>\n",
       "      <td>0.048000</td>\n",
       "      <td>5.000000</td>\n",
       "      <td>1.000000</td>\n",
       "      <td>0.003000</td>\n",
       "      <td>2.170000</td>\n",
       "      <td>0.820000</td>\n",
       "      <td>0.020000</td>\n",
       "      <td>0.040000</td>\n",
       "      <td>0.020000</td>\n",
       "      <td>0.000000</td>\n",
       "    </tr>\n",
       "    <tr>\n",
       "      <th>50%</th>\n",
       "      <td>0.070000</td>\n",
       "      <td>14.130000</td>\n",
       "      <td>0.050000</td>\n",
       "      <td>1.190000</td>\n",
       "      <td>0.040000</td>\n",
       "      <td>0.530000</td>\n",
       "      <td>0.090000</td>\n",
       "      <td>0.750000</td>\n",
       "      <td>0.770000</td>\n",
       "      <td>0.220000</td>\n",
       "      <td>...</td>\n",
       "      <td>0.102000</td>\n",
       "      <td>9.930000</td>\n",
       "      <td>1.420000</td>\n",
       "      <td>0.005000</td>\n",
       "      <td>7.745000</td>\n",
       "      <td>2.410000</td>\n",
       "      <td>0.050000</td>\n",
       "      <td>0.080000</td>\n",
       "      <td>0.050000</td>\n",
       "      <td>0.000000</td>\n",
       "    </tr>\n",
       "    <tr>\n",
       "      <th>75%</th>\n",
       "      <td>0.280000</td>\n",
       "      <td>22.132500</td>\n",
       "      <td>0.100000</td>\n",
       "      <td>2.482500</td>\n",
       "      <td>0.070000</td>\n",
       "      <td>4.240000</td>\n",
       "      <td>0.440000</td>\n",
       "      <td>1.390000</td>\n",
       "      <td>1.160000</td>\n",
       "      <td>0.610000</td>\n",
       "      <td>...</td>\n",
       "      <td>0.151000</td>\n",
       "      <td>14.610000</td>\n",
       "      <td>1.760000</td>\n",
       "      <td>0.008000</td>\n",
       "      <td>29.487500</td>\n",
       "      <td>4.670000</td>\n",
       "      <td>0.070000</td>\n",
       "      <td>0.240000</td>\n",
       "      <td>0.070000</td>\n",
       "      <td>0.000000</td>\n",
       "    </tr>\n",
       "    <tr>\n",
       "      <th>max</th>\n",
       "      <td>5.050000</td>\n",
       "      <td>29.840000</td>\n",
       "      <td>1.050000</td>\n",
       "      <td>4.940000</td>\n",
       "      <td>0.130000</td>\n",
       "      <td>8.680000</td>\n",
       "      <td>0.900000</td>\n",
       "      <td>2.000000</td>\n",
       "      <td>1.500000</td>\n",
       "      <td>1.000000</td>\n",
       "      <td>...</td>\n",
       "      <td>0.200000</td>\n",
       "      <td>19.830000</td>\n",
       "      <td>2.930000</td>\n",
       "      <td>0.010000</td>\n",
       "      <td>60.010000</td>\n",
       "      <td>7.990000</td>\n",
       "      <td>0.100000</td>\n",
       "      <td>0.500000</td>\n",
       "      <td>0.090000</td>\n",
       "      <td>1.000000</td>\n",
       "    </tr>\n",
       "  </tbody>\n",
       "</table>\n",
       "<p>8 rows × 21 columns</p>\n",
       "</div>"
      ],
      "text/plain": [
       "         aluminium      ammonia      arsenic       barium      cadmium  \\\n",
       "count  7996.000000  7996.000000  7996.000000  7996.000000  7996.000000   \n",
       "mean      0.666396    14.278312     0.161477     1.567928     0.042803   \n",
       "std       1.265323     8.878769     0.252632     1.216227     0.036049   \n",
       "min       0.000000     0.000000     0.000000     0.000000     0.000000   \n",
       "25%       0.040000     6.577500     0.030000     0.560000     0.008000   \n",
       "50%       0.070000    14.130000     0.050000     1.190000     0.040000   \n",
       "75%       0.280000    22.132500     0.100000     2.482500     0.070000   \n",
       "max       5.050000    29.840000     1.050000     4.940000     0.130000   \n",
       "\n",
       "        chloramine     chromium       copper     flouride     bacteria  ...  \\\n",
       "count  7996.000000  7996.000000  7996.000000  7996.000000  7996.000000  ...   \n",
       "mean      2.177589     0.247300     0.805940     0.771646     0.319714  ...   \n",
       "std       2.567210     0.270663     0.653595     0.435423     0.329497  ...   \n",
       "min       0.000000     0.000000     0.000000     0.000000     0.000000  ...   \n",
       "25%       0.100000     0.050000     0.090000     0.407500     0.000000  ...   \n",
       "50%       0.530000     0.090000     0.750000     0.770000     0.220000  ...   \n",
       "75%       4.240000     0.440000     1.390000     1.160000     0.610000  ...   \n",
       "max       8.680000     0.900000     2.000000     1.500000     1.000000  ...   \n",
       "\n",
       "              lead     nitrates     nitrites      mercury  perchlorate  \\\n",
       "count  7996.000000  7996.000000  7996.000000  7996.000000  7996.000000   \n",
       "mean      0.099431     9.819250     1.329846     0.005193    16.465266   \n",
       "std       0.058169     5.541977     0.573271     0.002967    17.688827   \n",
       "min       0.000000     0.000000     0.000000     0.000000     0.000000   \n",
       "25%       0.048000     5.000000     1.000000     0.003000     2.170000   \n",
       "50%       0.102000     9.930000     1.420000     0.005000     7.745000   \n",
       "75%       0.151000    14.610000     1.760000     0.008000    29.487500   \n",
       "max       0.200000    19.830000     2.930000     0.010000    60.010000   \n",
       "\n",
       "            radium     selenium       silver      uranium      is_safe  \n",
       "count  7996.000000  7996.000000  7996.000000  7996.000000  7996.000000  \n",
       "mean      2.920106     0.049684     0.147811     0.044672     0.114057  \n",
       "std       2.322805     0.028773     0.143569     0.026906     0.317900  \n",
       "min       0.000000     0.000000     0.000000     0.000000     0.000000  \n",
       "25%       0.820000     0.020000     0.040000     0.020000     0.000000  \n",
       "50%       2.410000     0.050000     0.080000     0.050000     0.000000  \n",
       "75%       4.670000     0.070000     0.240000     0.070000     0.000000  \n",
       "max       7.990000     0.100000     0.500000     0.090000     1.000000  \n",
       "\n",
       "[8 rows x 21 columns]"
      ]
     },
     "execution_count": 15,
     "metadata": {},
     "output_type": "execute_result"
    }
   ],
   "source": [
    "#aluminium,arsenic, (perchlorate) might have some weighted outlier data\n",
    "wa.describe()"
   ]
  },
  {
   "cell_type": "code",
   "execution_count": 16,
   "id": "842f370d",
   "metadata": {},
   "outputs": [
    {
     "name": "stdout",
     "output_type": "stream",
     "text": [
      "['aluminium', 'arsenic'] featuers many overweighted outlier data\n"
     ]
    }
   ],
   "source": [
    "#find mean value above 75% features\n",
    "#aluminium,arsenic, (perchlorate) might have some weighted outlier data\n",
    "over=[]\n",
    "for i in list(wa.iloc[:,:-1].columns):\n",
    "    if wa[i].mean()>np.percentile(wa[i], 75):\n",
    "        over.append(i)\n",
    "print(over, 'featuers many overweighted outlier data')"
   ]
  },
  {
   "cell_type": "code",
   "execution_count": 17,
   "id": "1283cbe2",
   "metadata": {},
   "outputs": [
    {
     "data": {
      "image/png": "[encoded data removed]",
      "text/plain": [
       "<Figure size 432x288 with 2 Axes>"
      ]
     },
     "metadata": {
      "needs_background": "light"
     },
     "output_type": "display_data"
    }
   ],
   "source": [
    "#visualision:use boxplot to show columns have heavt outlier\n",
    "fig, [ax0, ax1] = plt.subplots(1,2)\n",
    "ax0.boxplot(wa[['aluminium','barium']], labels=['aluminium','barium'])\n",
    "ax0.set_title('aluminium weighter outliers')\n",
    "ax1.boxplot(wa[['arsenic','flouride']], labels=['arsenic','flouride'])\n",
    "ax1.set_title('arsenic weighter outliers')\n",
    "plt.show()"
   ]
  },
  {
   "cell_type": "code",
   "execution_count": 18,
   "id": "429753bc",
   "metadata": {},
   "outputs": [
    {
     "data": {
      "text/plain": [
       "(0.81, 3.9225)"
      ]
     },
     "execution_count": 18,
     "metadata": {},
     "output_type": "execute_result"
    }
   ],
   "source": [
    "#percentile\n",
    "np.percentile(wa['arsenic'], 95),np.percentile(wa['aluminium'], 95)"
   ]
  },
  {
   "cell_type": "code",
   "execution_count": 19,
   "id": "c53acfcb",
   "metadata": {},
   "outputs": [
    {
     "data": {
      "text/plain": [
       "<AxesSubplot:>"
      ]
     },
     "execution_count": 19,
     "metadata": {},
     "output_type": "execute_result"
    },
    {
     "data": {
      "image/png": "[encoded data removed]",
      "text/plain": [
       "<Figure size 432x288 with 2 Axes>"
      ]
     },
     "metadata": {
      "needs_background": "light"
     },
     "output_type": "display_data"
    }
   ],
   "source": [
    "#draw feature correlation map, features are not correlated \n",
    "sns.heatmap(wa.corr())"
   ]
  },
  {
   "cell_type": "code",
   "execution_count": 20,
   "id": "e6733b96",
   "metadata": {},
   "outputs": [
    {
     "data": {
      "text/plain": [
       "(7996, 21)"
      ]
     },
     "execution_count": 20,
     "metadata": {},
     "output_type": "execute_result"
    }
   ],
   "source": [
    "wa.shape"
   ]
  },
  {
   "cell_type": "code",
   "execution_count": 21,
   "id": "ed1bf6d4",
   "metadata": {},
   "outputs": [],
   "source": [
    "#set X and y; train, val, test set\n",
    "X=wa.iloc[:,:-1]\n",
    "y=wa['is_safe']\n",
    "from sklearn.preprocessing import StandardScaler\n",
    "stand = StandardScaler()\n",
    "X = stand.fit_transform(X)\n",
    "\n",
    "#train, val, test set: 60%, 20%, 20%\n",
    "from sklearn.model_selection import train_test_split\n",
    "X_train, X_test, y_train, y_test = train_test_split(X, y, test_size=0.2, random_state=20)\n",
    "X_train, X_val, y_train, y_val = train_test_split(X_train, y_train, test_size=0.25, random_state=20)"
   ]
  },
  {
   "cell_type": "code",
   "execution_count": 22,
   "id": "5bba5f76",
   "metadata": {},
   "outputs": [
    {
     "data": {
      "text/plain": [
       "(0.5918282259745674, 0.5834896810506567)"
      ]
     },
     "execution_count": 22,
     "metadata": {},
     "output_type": "execute_result"
    }
   ],
   "source": [
    "#K-Means default\n",
    "from sklearn.metrics import accuracy_score\n",
    "from sklearn.cluster import KMeans\n",
    "from sklearn.model_selection import cross_val_score\n",
    "kmeans = KMeans(n_clusters=2, random_state=0).fit(X_train)\n",
    "ktrain_pred=kmeans.predict(X_train)\n",
    "kval_pred=kmeans.predict(X_val)\n",
    "accuracy_score(y_train, ktrain_pred),accuracy_score(y_val, kval_pred)"
   ]
  },
  {
   "cell_type": "code",
   "execution_count": 23,
   "id": "5f5daef6",
   "metadata": {},
   "outputs": [
    {
     "data": {
      "text/plain": [
       "(819, 780)"
      ]
     },
     "execution_count": 23,
     "metadata": {},
     "output_type": "execute_result"
    }
   ],
   "source": [
    "list(kval_pred).count(0), list(kval_pred).count(1)"
   ]
  },
  {
   "cell_type": "code",
   "execution_count": 24,
   "id": "5a7344de",
   "metadata": {},
   "outputs": [
    {
     "data": {
      "image/png": "[encoded data removed]",
      "text/plain": [
       "<Figure size 432x288 with 1 Axes>"
      ]
     },
     "metadata": {
      "needs_background": "light"
     },
     "output_type": "display_data"
    }
   ],
   "source": [
    "#elbow method find optimal n_cluster:Kmeans best result is 2 clusters,the accuracy is 59%, not ideal\n",
    "inert=[]\n",
    "for i in range(1,8):\n",
    "    model=KMeans(n_clusters=i, random_state=0).fit(X_train)\n",
    "    inert.append(model.inertia_)\n",
    "    \n",
    "plt.plot(range(1,8),inert)\n",
    "plt.title('cost of n_clusters')\n",
    "plt.show()"
   ]
  },
  {
   "cell_type": "code",
   "execution_count": 25,
   "id": "ab341f3b",
   "metadata": {},
   "outputs": [
    {
     "name": "stdout",
     "output_type": "stream",
     "text": [
      "{0, 1, -1} 0.8843171585792896\n",
      "noise: 13\n",
      "7981 2\n"
     ]
    }
   ],
   "source": [
    "#DBSCAN has better accuracy result on eps=4,min_sample=2, but 1 cluster sample is too overweighted\n",
    "from sklearn.cluster import DBSCAN\n",
    "dbscan = DBSCAN(eps=4, min_samples=2).fit(X)\n",
    "db_pred=dbscan.labels_\n",
    "\n",
    "print(set(db_pred),accuracy_score(y, db_pred))\n",
    "n_noise_ = list(db_pred).count(-1)\n",
    "print('noise:',n_noise_)\n",
    "print(list(db_pred).count(0),list(db_pred).count(1))"
   ]
  },
  {
   "cell_type": "code",
   "execution_count": 26,
   "id": "a9f294b5",
   "metadata": {},
   "outputs": [],
   "source": [
    "db_ed=[0]\n",
    "n_cluster=[0]\n",
    "noise=[0]\n",
    "accuracy=[0]\n",
    "group1=[0]\n",
    "group2=[0]\n",
    "for i in range(1,10):\n",
    "    db = DBSCAN(eps=i, min_samples=5).fit(X)\n",
    "    db_ed.append(db.labels_)\n",
    "    n_cluster.append(len(set(db_ed[i]))-(1 if -1 in db_ed[i] else 0))\n",
    "    accuracy.append(accuracy_score(y, db_ed[i]))\n",
    "    noise.append(list(db_ed[i]).count(-1))\n",
    "    group1.append(list(db_ed[i]).count(0))\n",
    "    group2.append(list(db_ed[i]).count(1))   "
   ]
  },
  {
   "cell_type": "code",
   "execution_count": 27,
   "id": "7acd4e44",
   "metadata": {},
   "outputs": [
    {
     "data": {
      "text/html": [
       "<div>\n",
       "<style scoped>\n",
       "    .dataframe tbody tr th:only-of-type {\n",
       "        vertical-align: middle;\n",
       "    }\n",
       "\n",
       "    .dataframe tbody tr th {\n",
       "        vertical-align: top;\n",
       "    }\n",
       "\n",
       "    .dataframe thead th {\n",
       "        text-align: right;\n",
       "    }\n",
       "</style>\n",
       "<table border=\"1\" class=\"dataframe\">\n",
       "  <thead>\n",
       "    <tr style=\"text-align: right;\">\n",
       "      <th></th>\n",
       "      <th>eps</th>\n",
       "      <th>cluster</th>\n",
       "      <th>group1</th>\n",
       "      <th>group2</th>\n",
       "      <th>noise</th>\n",
       "      <th>accuracy</th>\n",
       "    </tr>\n",
       "  </thead>\n",
       "  <tbody>\n",
       "    <tr>\n",
       "      <th>0</th>\n",
       "      <td>0</td>\n",
       "      <td>0</td>\n",
       "      <td>0</td>\n",
       "      <td>0</td>\n",
       "      <td>0</td>\n",
       "      <td>0.000000</td>\n",
       "    </tr>\n",
       "    <tr>\n",
       "      <th>1</th>\n",
       "      <td>1</td>\n",
       "      <td>0</td>\n",
       "      <td>0</td>\n",
       "      <td>0</td>\n",
       "      <td>7996</td>\n",
       "      <td>0.000000</td>\n",
       "    </tr>\n",
       "    <tr>\n",
       "      <th>2</th>\n",
       "      <td>2</td>\n",
       "      <td>53</td>\n",
       "      <td>880</td>\n",
       "      <td>6</td>\n",
       "      <td>6718</td>\n",
       "      <td>0.101551</td>\n",
       "    </tr>\n",
       "    <tr>\n",
       "      <th>3</th>\n",
       "      <td>3</td>\n",
       "      <td>23</td>\n",
       "      <td>5584</td>\n",
       "      <td>3</td>\n",
       "      <td>2310</td>\n",
       "      <td>0.631816</td>\n",
       "    </tr>\n",
       "    <tr>\n",
       "      <th>4</th>\n",
       "      <td>4</td>\n",
       "      <td>1</td>\n",
       "      <td>7977</td>\n",
       "      <td>0</td>\n",
       "      <td>19</td>\n",
       "      <td>0.883942</td>\n",
       "    </tr>\n",
       "    <tr>\n",
       "      <th>5</th>\n",
       "      <td>5</td>\n",
       "      <td>1</td>\n",
       "      <td>7996</td>\n",
       "      <td>0</td>\n",
       "      <td>0</td>\n",
       "      <td>0.885943</td>\n",
       "    </tr>\n",
       "    <tr>\n",
       "      <th>6</th>\n",
       "      <td>6</td>\n",
       "      <td>1</td>\n",
       "      <td>7996</td>\n",
       "      <td>0</td>\n",
       "      <td>0</td>\n",
       "      <td>0.885943</td>\n",
       "    </tr>\n",
       "    <tr>\n",
       "      <th>7</th>\n",
       "      <td>7</td>\n",
       "      <td>1</td>\n",
       "      <td>7996</td>\n",
       "      <td>0</td>\n",
       "      <td>0</td>\n",
       "      <td>0.885943</td>\n",
       "    </tr>\n",
       "    <tr>\n",
       "      <th>8</th>\n",
       "      <td>8</td>\n",
       "      <td>1</td>\n",
       "      <td>7996</td>\n",
       "      <td>0</td>\n",
       "      <td>0</td>\n",
       "      <td>0.885943</td>\n",
       "    </tr>\n",
       "    <tr>\n",
       "      <th>9</th>\n",
       "      <td>9</td>\n",
       "      <td>1</td>\n",
       "      <td>7996</td>\n",
       "      <td>0</td>\n",
       "      <td>0</td>\n",
       "      <td>0.885943</td>\n",
       "    </tr>\n",
       "  </tbody>\n",
       "</table>\n",
       "</div>"
      ],
      "text/plain": [
       "   eps  cluster  group1  group2  noise  accuracy\n",
       "0    0        0       0       0      0  0.000000\n",
       "1    1        0       0       0   7996  0.000000\n",
       "2    2       53     880       6   6718  0.101551\n",
       "3    3       23    5584       3   2310  0.631816\n",
       "4    4        1    7977       0     19  0.883942\n",
       "5    5        1    7996       0      0  0.885943\n",
       "6    6        1    7996       0      0  0.885943\n",
       "7    7        1    7996       0      0  0.885943\n",
       "8    8        1    7996       0      0  0.885943\n",
       "9    9        1    7996       0      0  0.885943"
      ]
     },
     "execution_count": 27,
     "metadata": {},
     "output_type": "execute_result"
    }
   ],
   "source": [
    "#show result\n",
    "dict={'eps':range(10),\n",
    "      'cluster':n_cluster,\n",
    "     'group1':group1,\n",
    "     'group2':group2,\n",
    "     'noise':noise,\n",
    "     'accuracy':accuracy}\n",
    "dict=pd.DataFrame(dict)\n",
    "dict"
   ]
  },
  {
   "cell_type": "code",
   "execution_count": 28,
   "id": "692bfb17",
   "metadata": {},
   "outputs": [],
   "source": [
    "#np.where(a == i)[0]\n",
    "#find better model eps[3,4]\n",
    "db_ed=[]\n",
    "n_cluster=[]\n",
    "noise=[]\n",
    "accuracy=[]\n",
    "group1=[]\n",
    "group2=[]\n",
    "a=np.linspace(3, 4, num=10)\n",
    "for i in a:\n",
    "    db = DBSCAN(eps=i, min_samples=5).fit(X)\n",
    "    db_ed.append(db.labels_)\n",
    "    b=np.where(np.linspace(3, 4, num=10) == i)[0][0]\n",
    "    n_cluster.append(len(set(db_ed[b]))-(1 if -1 in db_ed[b] else 0))\n",
    "    accuracy.append(accuracy_score(y, db_ed[b]))\n",
    "    noise.append(list(db_ed[b]).count(-1))\n",
    "    group1.append(list(db_ed[b]).count(0))\n",
    "    group2.append(list(db_ed[b]).count(1))  \n",
    "    \n",
    "    "
   ]
  },
  {
   "cell_type": "code",
   "execution_count": 29,
   "id": "d4e1d487",
   "metadata": {},
   "outputs": [
    {
     "data": {
      "text/html": [
       "<div>\n",
       "<style scoped>\n",
       "    .dataframe tbody tr th:only-of-type {\n",
       "        vertical-align: middle;\n",
       "    }\n",
       "\n",
       "    .dataframe tbody tr th {\n",
       "        vertical-align: top;\n",
       "    }\n",
       "\n",
       "    .dataframe thead th {\n",
       "        text-align: right;\n",
       "    }\n",
       "</style>\n",
       "<table border=\"1\" class=\"dataframe\">\n",
       "  <thead>\n",
       "    <tr style=\"text-align: right;\">\n",
       "      <th></th>\n",
       "      <th>eps</th>\n",
       "      <th>cluster</th>\n",
       "      <th>group1</th>\n",
       "      <th>group2</th>\n",
       "      <th>noise</th>\n",
       "      <th>accuracy</th>\n",
       "    </tr>\n",
       "  </thead>\n",
       "  <tbody>\n",
       "    <tr>\n",
       "      <th>0</th>\n",
       "      <td>3.000000</td>\n",
       "      <td>23</td>\n",
       "      <td>5584</td>\n",
       "      <td>3</td>\n",
       "      <td>2310</td>\n",
       "      <td>0.631816</td>\n",
       "    </tr>\n",
       "    <tr>\n",
       "      <th>1</th>\n",
       "      <td>3.111111</td>\n",
       "      <td>22</td>\n",
       "      <td>6139</td>\n",
       "      <td>8</td>\n",
       "      <td>1768</td>\n",
       "      <td>0.685093</td>\n",
       "    </tr>\n",
       "    <tr>\n",
       "      <th>2</th>\n",
       "      <td>3.222222</td>\n",
       "      <td>17</td>\n",
       "      <td>6650</td>\n",
       "      <td>3</td>\n",
       "      <td>1252</td>\n",
       "      <td>0.735993</td>\n",
       "    </tr>\n",
       "    <tr>\n",
       "      <th>3</th>\n",
       "      <td>3.333333</td>\n",
       "      <td>7</td>\n",
       "      <td>7095</td>\n",
       "      <td>5</td>\n",
       "      <td>877</td>\n",
       "      <td>0.784892</td>\n",
       "    </tr>\n",
       "    <tr>\n",
       "      <th>4</th>\n",
       "      <td>3.444444</td>\n",
       "      <td>2</td>\n",
       "      <td>7460</td>\n",
       "      <td>3</td>\n",
       "      <td>533</td>\n",
       "      <td>0.825163</td>\n",
       "    </tr>\n",
       "    <tr>\n",
       "      <th>5</th>\n",
       "      <td>3.555556</td>\n",
       "      <td>1</td>\n",
       "      <td>7652</td>\n",
       "      <td>0</td>\n",
       "      <td>344</td>\n",
       "      <td>0.846423</td>\n",
       "    </tr>\n",
       "    <tr>\n",
       "      <th>6</th>\n",
       "      <td>3.666667</td>\n",
       "      <td>2</td>\n",
       "      <td>7812</td>\n",
       "      <td>2</td>\n",
       "      <td>182</td>\n",
       "      <td>0.865183</td>\n",
       "    </tr>\n",
       "    <tr>\n",
       "      <th>7</th>\n",
       "      <td>3.777778</td>\n",
       "      <td>1</td>\n",
       "      <td>7903</td>\n",
       "      <td>0</td>\n",
       "      <td>93</td>\n",
       "      <td>0.875438</td>\n",
       "    </tr>\n",
       "    <tr>\n",
       "      <th>8</th>\n",
       "      <td>3.888889</td>\n",
       "      <td>1</td>\n",
       "      <td>7958</td>\n",
       "      <td>0</td>\n",
       "      <td>38</td>\n",
       "      <td>0.881566</td>\n",
       "    </tr>\n",
       "    <tr>\n",
       "      <th>9</th>\n",
       "      <td>4.000000</td>\n",
       "      <td>1</td>\n",
       "      <td>7977</td>\n",
       "      <td>0</td>\n",
       "      <td>19</td>\n",
       "      <td>0.883942</td>\n",
       "    </tr>\n",
       "  </tbody>\n",
       "</table>\n",
       "</div>"
      ],
      "text/plain": [
       "        eps  cluster  group1  group2  noise  accuracy\n",
       "0  3.000000       23    5584       3   2310  0.631816\n",
       "1  3.111111       22    6139       8   1768  0.685093\n",
       "2  3.222222       17    6650       3   1252  0.735993\n",
       "3  3.333333        7    7095       5    877  0.784892\n",
       "4  3.444444        2    7460       3    533  0.825163\n",
       "5  3.555556        1    7652       0    344  0.846423\n",
       "6  3.666667        2    7812       2    182  0.865183\n",
       "7  3.777778        1    7903       0     93  0.875438\n",
       "8  3.888889        1    7958       0     38  0.881566\n",
       "9  4.000000        1    7977       0     19  0.883942"
      ]
     },
     "execution_count": 29,
     "metadata": {},
     "output_type": "execute_result"
    }
   ],
   "source": [
    "#show result eps[3,4], DBCSAN doesn't give good result for all features'model\n",
    "dict={'eps':np.linspace(3, 4, num=10),\n",
    "      'cluster':n_cluster,\n",
    "     'group1':group1,\n",
    "     'group2':group2,\n",
    "     'noise':noise,\n",
    "     'accuracy':accuracy}\n",
    "dict=pd.DataFrame(dict)\n",
    "dict"
   ]
  },
  {
   "cell_type": "code",
   "execution_count": 30,
   "id": "e64c67a4",
   "metadata": {},
   "outputs": [],
   "source": [
    "from sklearn.svm import SVC\n",
    "from sklearn.linear_model import LogisticRegression\n",
    "from sklearn.ensemble import RandomForestClassifier\n",
    "from sklearn.naive_bayes import GaussianNB\n",
    "from sklearn.neighbors import KNeighborsClassifier\n",
    "from sklearn.ensemble import StackingClassifier\n",
    "from sklearn.metrics import accuracy_score\n",
    "from sklearn.cluster import KMeans"
   ]
  },
  {
   "cell_type": "code",
   "execution_count": 31,
   "id": "f779ae49",
   "metadata": {},
   "outputs": [
    {
     "name": "stdout",
     "output_type": "stream",
     "text": [
      "[ 1 10  1 13  1  3  7  8 18  9  6 16  5 15 17  4 14 12 11  2]\n"
     ]
    }
   ],
   "source": [
    "#starting feature reduction from 20 features\n",
    "from sklearn.feature_selection import RFE\n",
    "select=RFE(estimator=LogisticRegression(max_iter=100000,random_state=42), n_features_to_select=3, step=1)\n",
    "select.fit(X_train,y_train)\n",
    "print(select.ranking_)\n",
    "\n",
    "#'aluminium', 'ammonia', 'arsenic', 'barium', 'cadmium',\n",
    "#'chloramine','chromium', 'copper', 'flouride', 'bacteria',\n",
    "#'viruses', 'lead', 'nitrates', 'nitrites', 'mercury',\n",
    "#'perchlorate', 'radium', 'selenium', 'silver', 'uranium',\n"
   ]
  },
  {
   "cell_type": "code",
   "execution_count": 32,
   "id": "a150f3f2",
   "metadata": {},
   "outputs": [],
   "source": [
    "# rearrange data feature by the  less importance to most importance\n",
    "nwa=pd.DataFrame(wa[['flouride', 'mercury', 'lead','nitrites','radium','barium','selenium','silver', 'ammonia','bacteria','copper', \n",
    "                     'chromium','viruses','nitrates','perchlorate', 'chloramine', 'uranium','cadmium','arsenic','aluminium','is_safe']])\n",
    "    \n"
   ]
  },
  {
   "cell_type": "code",
   "execution_count": 33,
   "id": "bfc2595f",
   "metadata": {},
   "outputs": [
    {
     "data": {
      "text/plain": [
       "(7996, 21)"
      ]
     },
     "execution_count": 33,
     "metadata": {},
     "output_type": "execute_result"
    }
   ],
   "source": [
    "nwa.shape"
   ]
  },
  {
   "cell_type": "code",
   "execution_count": 34,
   "id": "7c7e5aa2",
   "metadata": {},
   "outputs": [
    {
     "data": {
      "image/png": "[encoded data removed]",
      "text/plain": [
       "<Figure size 432x288 with 1 Axes>"
      ]
     },
     "metadata": {
      "needs_background": "light"
     },
     "output_type": "display_data"
    }
   ],
   "source": [
    "#select first 5,10,15,20 important features. elbow method shows that the optial cluster are 2 or 3\n",
    "\n",
    "X1=nwa.iloc[:,:20]##2 features shows the best accuracy result\n",
    "y=nwa['is_safe']\n",
    "stand = StandardScaler()\n",
    "X1 = stand.fit_transform(X1)\n",
    "X1_train, X1_test, y_train, y_test = train_test_split(X1, y, test_size=0.2, random_state=20)\n",
    "X1_train, X1_val, y_train, y_val = train_test_split(X1_train, y_train, test_size=0.25, random_state=20)\n",
    "\n",
    "inert=[]\n",
    "for i in range(1,8):\n",
    "    model=KMeans(n_clusters=i, random_state=0).fit(X1_train)\n",
    "    inert.append(model.inertia_)\n",
    "    \n",
    "plt.plot(range(1,8),inert)\n",
    "plt.title('cost of No.clusters')\n",
    "plt.xlabel('n_cluster')\n",
    "plt.show()"
   ]
  },
  {
   "cell_type": "code",
   "execution_count": 35,
   "id": "b3f75d9c",
   "metadata": {},
   "outputs": [
    {
     "data": {
      "text/html": [
       "<div>\n",
       "<style scoped>\n",
       "    .dataframe tbody tr th:only-of-type {\n",
       "        vertical-align: middle;\n",
       "    }\n",
       "\n",
       "    .dataframe tbody tr th {\n",
       "        vertical-align: top;\n",
       "    }\n",
       "\n",
       "    .dataframe thead th {\n",
       "        text-align: right;\n",
       "    }\n",
       "</style>\n",
       "<table border=\"1\" class=\"dataframe\">\n",
       "  <thead>\n",
       "    <tr style=\"text-align: right;\">\n",
       "      <th></th>\n",
       "      <th>n_features</th>\n",
       "      <th>train_accuracy</th>\n",
       "      <th>val_accuracy</th>\n",
       "      <th>n_group1</th>\n",
       "      <th>n_group2</th>\n",
       "      <th>n_group3</th>\n",
       "    </tr>\n",
       "  </thead>\n",
       "  <tbody>\n",
       "    <tr>\n",
       "      <th>0</th>\n",
       "      <td>20.0</td>\n",
       "      <td>0.217844</td>\n",
       "      <td>0.214509</td>\n",
       "      <td>329</td>\n",
       "      <td>804</td>\n",
       "      <td>466</td>\n",
       "    </tr>\n",
       "    <tr>\n",
       "      <th>1</th>\n",
       "      <td>19.0</td>\n",
       "      <td>0.218053</td>\n",
       "      <td>0.215760</td>\n",
       "      <td>331</td>\n",
       "      <td>804</td>\n",
       "      <td>464</td>\n",
       "    </tr>\n",
       "    <tr>\n",
       "      <th>2</th>\n",
       "      <td>18.0</td>\n",
       "      <td>0.205545</td>\n",
       "      <td>0.226391</td>\n",
       "      <td>464</td>\n",
       "      <td>804</td>\n",
       "      <td>331</td>\n",
       "    </tr>\n",
       "    <tr>\n",
       "      <th>3</th>\n",
       "      <td>17.0</td>\n",
       "      <td>0.214301</td>\n",
       "      <td>0.211382</td>\n",
       "      <td>324</td>\n",
       "      <td>804</td>\n",
       "      <td>471</td>\n",
       "    </tr>\n",
       "    <tr>\n",
       "      <th>4</th>\n",
       "      <td>16.0</td>\n",
       "      <td>0.212633</td>\n",
       "      <td>0.210757</td>\n",
       "      <td>321</td>\n",
       "      <td>806</td>\n",
       "      <td>472</td>\n",
       "    </tr>\n",
       "    <tr>\n",
       "      <th>5</th>\n",
       "      <td>15.0</td>\n",
       "      <td>0.212216</td>\n",
       "      <td>0.229518</td>\n",
       "      <td>468</td>\n",
       "      <td>815</td>\n",
       "      <td>316</td>\n",
       "    </tr>\n",
       "    <tr>\n",
       "      <th>6</th>\n",
       "      <td>14.0</td>\n",
       "      <td>0.208881</td>\n",
       "      <td>0.204503</td>\n",
       "      <td>314</td>\n",
       "      <td>821</td>\n",
       "      <td>464</td>\n",
       "    </tr>\n",
       "    <tr>\n",
       "      <th>7</th>\n",
       "      <td>13.0</td>\n",
       "      <td>0.509277</td>\n",
       "      <td>0.505316</td>\n",
       "      <td>821</td>\n",
       "      <td>312</td>\n",
       "      <td>466</td>\n",
       "    </tr>\n",
       "    <tr>\n",
       "      <th>8</th>\n",
       "      <td>12.0</td>\n",
       "      <td>0.206379</td>\n",
       "      <td>0.226391</td>\n",
       "      <td>459</td>\n",
       "      <td>831</td>\n",
       "      <td>309</td>\n",
       "    </tr>\n",
       "    <tr>\n",
       "      <th>9</th>\n",
       "      <td>11.0</td>\n",
       "      <td>0.276631</td>\n",
       "      <td>0.263290</td>\n",
       "      <td>306</td>\n",
       "      <td>456</td>\n",
       "      <td>837</td>\n",
       "    </tr>\n",
       "    <tr>\n",
       "      <th>10</th>\n",
       "      <td>10.0</td>\n",
       "      <td>0.204086</td>\n",
       "      <td>0.200750</td>\n",
       "      <td>305</td>\n",
       "      <td>839</td>\n",
       "      <td>455</td>\n",
       "    </tr>\n",
       "    <tr>\n",
       "      <th>11</th>\n",
       "      <td>9.0</td>\n",
       "      <td>0.203252</td>\n",
       "      <td>0.203252</td>\n",
       "      <td>307</td>\n",
       "      <td>836</td>\n",
       "      <td>456</td>\n",
       "    </tr>\n",
       "    <tr>\n",
       "      <th>12</th>\n",
       "      <td>8.0</td>\n",
       "      <td>0.203460</td>\n",
       "      <td>0.197624</td>\n",
       "      <td>298</td>\n",
       "      <td>859</td>\n",
       "      <td>442</td>\n",
       "    </tr>\n",
       "    <tr>\n",
       "      <th>13</th>\n",
       "      <td>7.0</td>\n",
       "      <td>0.198457</td>\n",
       "      <td>0.215134</td>\n",
       "      <td>442</td>\n",
       "      <td>861</td>\n",
       "      <td>296</td>\n",
       "    </tr>\n",
       "    <tr>\n",
       "      <th>14</th>\n",
       "      <td>6.0</td>\n",
       "      <td>0.270794</td>\n",
       "      <td>0.258912</td>\n",
       "      <td>299</td>\n",
       "      <td>439</td>\n",
       "      <td>861</td>\n",
       "    </tr>\n",
       "    <tr>\n",
       "      <th>15</th>\n",
       "      <td>5.0</td>\n",
       "      <td>0.262247</td>\n",
       "      <td>0.248906</td>\n",
       "      <td>286</td>\n",
       "      <td>394</td>\n",
       "      <td>919</td>\n",
       "    </tr>\n",
       "    <tr>\n",
       "      <th>16</th>\n",
       "      <td>4.0</td>\n",
       "      <td>0.117573</td>\n",
       "      <td>0.108818</td>\n",
       "      <td>171</td>\n",
       "      <td>1181</td>\n",
       "      <td>247</td>\n",
       "    </tr>\n",
       "    <tr>\n",
       "      <th>17</th>\n",
       "      <td>3.0</td>\n",
       "      <td>0.070878</td>\n",
       "      <td>0.060663</td>\n",
       "      <td>171</td>\n",
       "      <td>247</td>\n",
       "      <td>1181</td>\n",
       "    </tr>\n",
       "    <tr>\n",
       "      <th>18</th>\n",
       "      <td>2.0</td>\n",
       "      <td>0.682718</td>\n",
       "      <td>0.695435</td>\n",
       "      <td>1191</td>\n",
       "      <td>216</td>\n",
       "      <td>192</td>\n",
       "    </tr>\n",
       "    <tr>\n",
       "      <th>19</th>\n",
       "      <td>1.0</td>\n",
       "      <td>0.788201</td>\n",
       "      <td>0.811757</td>\n",
       "      <td>1316</td>\n",
       "      <td>157</td>\n",
       "      <td>126</td>\n",
       "    </tr>\n",
       "  </tbody>\n",
       "</table>\n",
       "</div>"
      ],
      "text/plain": [
       "    n_features  train_accuracy  val_accuracy  n_group1  n_group2  n_group3\n",
       "0         20.0        0.217844      0.214509       329       804       466\n",
       "1         19.0        0.218053      0.215760       331       804       464\n",
       "2         18.0        0.205545      0.226391       464       804       331\n",
       "3         17.0        0.214301      0.211382       324       804       471\n",
       "4         16.0        0.212633      0.210757       321       806       472\n",
       "5         15.0        0.212216      0.229518       468       815       316\n",
       "6         14.0        0.208881      0.204503       314       821       464\n",
       "7         13.0        0.509277      0.505316       821       312       466\n",
       "8         12.0        0.206379      0.226391       459       831       309\n",
       "9         11.0        0.276631      0.263290       306       456       837\n",
       "10        10.0        0.204086      0.200750       305       839       455\n",
       "11         9.0        0.203252      0.203252       307       836       456\n",
       "12         8.0        0.203460      0.197624       298       859       442\n",
       "13         7.0        0.198457      0.215134       442       861       296\n",
       "14         6.0        0.270794      0.258912       299       439       861\n",
       "15         5.0        0.262247      0.248906       286       394       919\n",
       "16         4.0        0.117573      0.108818       171      1181       247\n",
       "17         3.0        0.070878      0.060663       171       247      1181\n",
       "18         2.0        0.682718      0.695435      1191       216       192\n",
       "19         1.0        0.788201      0.811757      1316       157       126"
      ]
     },
     "execution_count": 35,
     "metadata": {},
     "output_type": "execute_result"
    }
   ],
   "source": [
    "#test 3 clusters model, but 3 clusters model result is not good as 2 clusters result\n",
    "ktrain_pred={}\n",
    "train_accuracy=[]\n",
    "val_accuracy=[]\n",
    "group11=[]\n",
    "group21=[]\n",
    "group31=[]\n",
    "for i in range(20):\n",
    "    X101=nwa.iloc[:,i:20]##2 features shows the best accuracy result\n",
    "    y=nwa['is_safe']\n",
    "    stand = StandardScaler()\n",
    "    X101 = stand.fit_transform(X101)\n",
    "    X101_train, X101_test, y_train, y_test = train_test_split(X101, y, test_size=0.2, random_state=20)\n",
    "    X101_train, X101_val, y_train, y_val = train_test_split(X101_train, y_train, test_size=0.25, random_state=20)\n",
    "    \n",
    "    kmeans = KMeans(n_clusters=3, random_state=0).fit(X101_train)\n",
    "    ktrain_pred=kmeans.predict(X101_train)#list\n",
    "    kval_pred=kmeans.predict(X101_val)#list\n",
    "    train_accuracy.append(accuracy_score(y_train, ktrain_pred))\n",
    "    val_accuracy.append(accuracy_score(y_val, kval_pred))\n",
    "    group11.append(list(kval_pred).count(0))\n",
    "    group21.append(list(kval_pred).count(1))\n",
    "    group31.append(list(kval_pred).count(2))\n",
    "    \n",
    "    \n",
    "f=np.linspace(20,20,20)-range(20)\n",
    "dict2={'n_features':f,\n",
    "      'train_accuracy':train_accuracy,\n",
    "      'val_accuracy':val_accuracy,\n",
    "      'n_group1':group11,\n",
    "      'n_group2':group21,\n",
    "      'n_group3':group31}\n",
    "dict2=pd.DataFrame(dict2)\n",
    "dict2   \n"
   ]
  },
  {
   "cell_type": "code",
   "execution_count": 36,
   "id": "abc43d81",
   "metadata": {},
   "outputs": [
    {
     "data": {
      "text/html": [
       "<div>\n",
       "<style scoped>\n",
       "    .dataframe tbody tr th:only-of-type {\n",
       "        vertical-align: middle;\n",
       "    }\n",
       "\n",
       "    .dataframe tbody tr th {\n",
       "        vertical-align: top;\n",
       "    }\n",
       "\n",
       "    .dataframe thead th {\n",
       "        text-align: right;\n",
       "    }\n",
       "</style>\n",
       "<table border=\"1\" class=\"dataframe\">\n",
       "  <thead>\n",
       "    <tr style=\"text-align: right;\">\n",
       "      <th></th>\n",
       "      <th>n_features</th>\n",
       "      <th>train_accuracy</th>\n",
       "      <th>val_accuracy</th>\n",
       "      <th>n_group1</th>\n",
       "      <th>n_group2</th>\n",
       "    </tr>\n",
       "  </thead>\n",
       "  <tbody>\n",
       "    <tr>\n",
       "      <th>0</th>\n",
       "      <td>20.0</td>\n",
       "      <td>0.591828</td>\n",
       "      <td>0.583490</td>\n",
       "      <td>819</td>\n",
       "      <td>780</td>\n",
       "    </tr>\n",
       "    <tr>\n",
       "      <th>1</th>\n",
       "      <td>19.0</td>\n",
       "      <td>0.591620</td>\n",
       "      <td>0.583490</td>\n",
       "      <td>819</td>\n",
       "      <td>780</td>\n",
       "    </tr>\n",
       "    <tr>\n",
       "      <th>2</th>\n",
       "      <td>18.0</td>\n",
       "      <td>0.408380</td>\n",
       "      <td>0.416510</td>\n",
       "      <td>780</td>\n",
       "      <td>819</td>\n",
       "    </tr>\n",
       "    <tr>\n",
       "      <th>3</th>\n",
       "      <td>17.0</td>\n",
       "      <td>0.592037</td>\n",
       "      <td>0.583490</td>\n",
       "      <td>819</td>\n",
       "      <td>780</td>\n",
       "    </tr>\n",
       "    <tr>\n",
       "      <th>4</th>\n",
       "      <td>16.0</td>\n",
       "      <td>0.591411</td>\n",
       "      <td>0.583490</td>\n",
       "      <td>823</td>\n",
       "      <td>776</td>\n",
       "    </tr>\n",
       "    <tr>\n",
       "      <th>5</th>\n",
       "      <td>15.0</td>\n",
       "      <td>0.594955</td>\n",
       "      <td>0.587867</td>\n",
       "      <td>826</td>\n",
       "      <td>773</td>\n",
       "    </tr>\n",
       "    <tr>\n",
       "      <th>6</th>\n",
       "      <td>14.0</td>\n",
       "      <td>0.596414</td>\n",
       "      <td>0.592245</td>\n",
       "      <td>837</td>\n",
       "      <td>762</td>\n",
       "    </tr>\n",
       "    <tr>\n",
       "      <th>7</th>\n",
       "      <td>13.0</td>\n",
       "      <td>0.596206</td>\n",
       "      <td>0.592245</td>\n",
       "      <td>837</td>\n",
       "      <td>762</td>\n",
       "    </tr>\n",
       "    <tr>\n",
       "      <th>8</th>\n",
       "      <td>12.0</td>\n",
       "      <td>0.610798</td>\n",
       "      <td>0.602877</td>\n",
       "      <td>856</td>\n",
       "      <td>743</td>\n",
       "    </tr>\n",
       "    <tr>\n",
       "      <th>9</th>\n",
       "      <td>11.0</td>\n",
       "      <td>0.389619</td>\n",
       "      <td>0.397749</td>\n",
       "      <td>740</td>\n",
       "      <td>859</td>\n",
       "    </tr>\n",
       "    <tr>\n",
       "      <th>10</th>\n",
       "      <td>10.0</td>\n",
       "      <td>0.611632</td>\n",
       "      <td>0.607880</td>\n",
       "      <td>866</td>\n",
       "      <td>733</td>\n",
       "    </tr>\n",
       "    <tr>\n",
       "      <th>11</th>\n",
       "      <td>9.0</td>\n",
       "      <td>0.613925</td>\n",
       "      <td>0.608505</td>\n",
       "      <td>869</td>\n",
       "      <td>730</td>\n",
       "    </tr>\n",
       "    <tr>\n",
       "      <th>12</th>\n",
       "      <td>8.0</td>\n",
       "      <td>0.633729</td>\n",
       "      <td>0.627892</td>\n",
       "      <td>910</td>\n",
       "      <td>689</td>\n",
       "    </tr>\n",
       "    <tr>\n",
       "      <th>13</th>\n",
       "      <td>7.0</td>\n",
       "      <td>0.366479</td>\n",
       "      <td>0.370857</td>\n",
       "      <td>687</td>\n",
       "      <td>912</td>\n",
       "    </tr>\n",
       "    <tr>\n",
       "      <th>14</th>\n",
       "      <td>6.0</td>\n",
       "      <td>0.633938</td>\n",
       "      <td>0.629143</td>\n",
       "      <td>912</td>\n",
       "      <td>687</td>\n",
       "    </tr>\n",
       "    <tr>\n",
       "      <th>15</th>\n",
       "      <td>5.0</td>\n",
       "      <td>0.667917</td>\n",
       "      <td>0.679800</td>\n",
       "      <td>1023</td>\n",
       "      <td>576</td>\n",
       "    </tr>\n",
       "    <tr>\n",
       "      <th>16</th>\n",
       "      <td>4.0</td>\n",
       "      <td>0.281009</td>\n",
       "      <td>0.272045</td>\n",
       "      <td>281</td>\n",
       "      <td>1318</td>\n",
       "    </tr>\n",
       "    <tr>\n",
       "      <th>17</th>\n",
       "      <td>3.0</td>\n",
       "      <td>0.281009</td>\n",
       "      <td>0.272045</td>\n",
       "      <td>281</td>\n",
       "      <td>1318</td>\n",
       "    </tr>\n",
       "    <tr>\n",
       "      <th>18</th>\n",
       "      <td>2.0</td>\n",
       "      <td>0.736710</td>\n",
       "      <td>0.754847</td>\n",
       "      <td>1217</td>\n",
       "      <td>382</td>\n",
       "    </tr>\n",
       "    <tr>\n",
       "      <th>19</th>\n",
       "      <td>1.0</td>\n",
       "      <td>0.831561</td>\n",
       "      <td>0.840525</td>\n",
       "      <td>1354</td>\n",
       "      <td>245</td>\n",
       "    </tr>\n",
       "  </tbody>\n",
       "</table>\n",
       "</div>"
      ],
      "text/plain": [
       "    n_features  train_accuracy  val_accuracy  n_group1  n_group2\n",
       "0         20.0        0.591828      0.583490       819       780\n",
       "1         19.0        0.591620      0.583490       819       780\n",
       "2         18.0        0.408380      0.416510       780       819\n",
       "3         17.0        0.592037      0.583490       819       780\n",
       "4         16.0        0.591411      0.583490       823       776\n",
       "5         15.0        0.594955      0.587867       826       773\n",
       "6         14.0        0.596414      0.592245       837       762\n",
       "7         13.0        0.596206      0.592245       837       762\n",
       "8         12.0        0.610798      0.602877       856       743\n",
       "9         11.0        0.389619      0.397749       740       859\n",
       "10        10.0        0.611632      0.607880       866       733\n",
       "11         9.0        0.613925      0.608505       869       730\n",
       "12         8.0        0.633729      0.627892       910       689\n",
       "13         7.0        0.366479      0.370857       687       912\n",
       "14         6.0        0.633938      0.629143       912       687\n",
       "15         5.0        0.667917      0.679800      1023       576\n",
       "16         4.0        0.281009      0.272045       281      1318\n",
       "17         3.0        0.281009      0.272045       281      1318\n",
       "18         2.0        0.736710      0.754847      1217       382\n",
       "19         1.0        0.831561      0.840525      1354       245"
      ]
     },
     "execution_count": 36,
     "metadata": {},
     "output_type": "execute_result"
    }
   ],
   "source": [
    "#test 2 clusters model\n",
    "ktrain_pred={}\n",
    "train_accuracy=[]\n",
    "val_accuracy=[]\n",
    "group11=[]\n",
    "group21=[]\n",
    "for i in range(20):\n",
    "    X101=nwa.iloc[:,i:20]##2 features shows the best accuracy result\n",
    "    y=nwa['is_safe']\n",
    "    stand = StandardScaler()\n",
    "    X101 = stand.fit_transform(X101)\n",
    "    X101_train, X101_test, y_train, y_test = train_test_split(X101, y, test_size=0.2, random_state=20)\n",
    "    X101_train, X101_val, y_train, y_val = train_test_split(X101_train, y_train, test_size=0.25, random_state=20)\n",
    "    \n",
    "    kmeans = KMeans(n_clusters=2, random_state=0).fit(X101_train)\n",
    "    ktrain_pred=kmeans.predict(X101_train)#list\n",
    "    kval_pred=kmeans.predict(X101_val)#list\n",
    "    train_accuracy.append(accuracy_score(y_train, ktrain_pred))\n",
    "    val_accuracy.append(accuracy_score(y_val, kval_pred))\n",
    "    group11.append(list(kval_pred).count(0))\n",
    "    group21.append(list(kval_pred).count(1))\n",
    "    \n",
    "f=np.linspace(20,20,20)-range(20)\n",
    "dict1={'n_features':f,\n",
    "      'train_accuracy':train_accuracy,\n",
    "      'val_accuracy':val_accuracy,\n",
    "      'n_group1':group11,\n",
    "      'n_group2':group21}\n",
    "dict1=pd.DataFrame(dict1)\n",
    "dict1   \n"
   ]
  },
  {
   "cell_type": "code",
   "execution_count": 41,
   "id": "d84931ed",
   "metadata": {},
   "outputs": [
    {
     "name": "stdout",
     "output_type": "stream",
     "text": [
      "5 features model,\n",
      " train set accuracy 0.6679174484052532,\n",
      " validation set accuracy 0.6797998749218261,\n",
      " data point group 1 contains1023, group 2 contains576\n"
     ]
    }
   ],
   "source": [
    "#first 5 important features 'aluminium','cadmium','arsenic','uranium','chloramine'\n",
    "##'aluminium','cadmium' 2 features shows the best accuracy result, it is presented on class\n",
    "#however, 2-feature-model isn't good to show the PCA,therefore, here choose 5 features model in the next step\n",
    "X1=nwa[['aluminium','cadmium','arsenic','uranium','chloramine']]\n",
    "y=nwa['is_safe']\n",
    "stand = StandardScaler()\n",
    "X1 = stand.fit_transform(X1)\n",
    "X1_train, X1_test, y_train, y_test = train_test_split(X1, y, test_size=0.2, random_state=20)\n",
    "X1_train, X1_val, y_train, y_val = train_test_split(X1_train, y_train, test_size=0.25, random_state=20)\n",
    "kmeans = KMeans(n_clusters=2, random_state=0).fit(X1_train)\n",
    "kmeans_pred=kmeans.predict(X1_train)\n",
    "val_ed=kmeans.predict(X1_val)\n",
    "all_pred=kmeans.predict(X1)\n",
    "print('5 features model,\\n train set accuracy %s,\\n validation set accuracy %s,\\n data point group 1 contains%s, group 2 contains%s' \n",
    "      %(accuracy_score(y_train, kmeans_pred),accuracy_score(y_val, val_ed), list(val_ed).count(0), list(val_ed).count(1)))"
   ]
  },
  {
   "cell_type": "code",
   "execution_count": 44,
   "id": "53ed74ba",
   "metadata": {},
   "outputs": [
    {
     "name": "stdout",
     "output_type": "stream",
     "text": [
      "first 2 components explained ratio [0.32823276 0.25253487]\n"
     ]
    }
   ],
   "source": [
    "#first 2 components explained total 58% data\n",
    "from sklearn.decomposition import PCA\n",
    "pca = PCA(n_components = 2)\n",
    "X_principal = pca.fit(X1)\n",
    "\n",
    "X_principal.columns = ['P1', 'P2']\n",
    "print('first 2 components explained ratio',pca.explained_variance_ratio_)\n",
    "newdata=pca.transform(X1)\n",
    "newdata=pd.DataFrame(newdata, columns= ['P1', 'P2'])\n",
    "newdata['is_safe']=nwa['is_safe']\n",
    "newdata['aluminium']=nwa['aluminium']\n",
    "newdata['cadmium']=nwa['cadmium']\n",
    "newdata['arsenic']=nwa['arsenic']\n",
    "newdata['uranium']=nwa['uranium']\n",
    "newdata['chloramine']=nwa['chloramine']\n"
   ]
  },
  {
   "cell_type": "markdown",
   "id": "511c7600",
   "metadata": {},
   "source": [
    "PCA first 2 components visulization camparision between real data and unsupervised prediction"
   ]
  },
  {
   "cell_type": "code",
   "execution_count": 45,
   "id": "a3529137",
   "metadata": {},
   "outputs": [
    {
     "data": {
      "image/png": "[encoded data removed]",
      "text/plain": [
       "<Figure size 432x288 with 2 Axes>"
      ]
     },
     "metadata": {
      "needs_background": "light"
     },
     "output_type": "display_data"
    }
   ],
   "source": [
    "#P1 and P2 explained all datapoint because only 2 features were selected in the model\n",
    "newdata['all_pred']=all_pred\n",
    "fig, axes = plt.subplots(1,2)\n",
    "sns.scatterplot(x=\"P1\", y=\"P2\", hue=\"is_safe\", data=newdata,ax=axes[0])\n",
    "sns.scatterplot(x=\"P1\", y=\"P2\", hue=\"all_pred\", data=newdata,ax=axes[1])\n",
    "plt.show()"
   ]
  },
  {
   "cell_type": "markdown",
   "id": "a65c6a6f",
   "metadata": {},
   "source": [
    "# task 3 evaluate unsupervised model (KMean,2 clusters)"
   ]
  },
  {
   "cell_type": "code",
   "execution_count": 51,
   "id": "ca020293",
   "metadata": {},
   "outputs": [
    {
     "data": {
      "text/html": [
       "<div>\n",
       "<style scoped>\n",
       "    .dataframe tbody tr th:only-of-type {\n",
       "        vertical-align: middle;\n",
       "    }\n",
       "\n",
       "    .dataframe tbody tr th {\n",
       "        vertical-align: top;\n",
       "    }\n",
       "\n",
       "    .dataframe thead th {\n",
       "        text-align: right;\n",
       "    }\n",
       "</style>\n",
       "<table border=\"1\" class=\"dataframe\">\n",
       "  <thead>\n",
       "    <tr style=\"text-align: right;\">\n",
       "      <th></th>\n",
       "      <th>aluminium</th>\n",
       "      <th>cadmium</th>\n",
       "      <th>arsenic</th>\n",
       "      <th>uranium</th>\n",
       "      <th>chloramine</th>\n",
       "      <th>is_safe</th>\n",
       "      <th>unsuper_pred</th>\n",
       "    </tr>\n",
       "  </thead>\n",
       "  <tbody>\n",
       "    <tr>\n",
       "      <th>0</th>\n",
       "      <td>1.65</td>\n",
       "      <td>0.007</td>\n",
       "      <td>0.04</td>\n",
       "      <td>0.02</td>\n",
       "      <td>0.35</td>\n",
       "      <td>1</td>\n",
       "      <td>0</td>\n",
       "    </tr>\n",
       "    <tr>\n",
       "      <th>1</th>\n",
       "      <td>2.32</td>\n",
       "      <td>0.002</td>\n",
       "      <td>0.01</td>\n",
       "      <td>0.05</td>\n",
       "      <td>5.28</td>\n",
       "      <td>1</td>\n",
       "      <td>1</td>\n",
       "    </tr>\n",
       "    <tr>\n",
       "      <th>2</th>\n",
       "      <td>1.01</td>\n",
       "      <td>0.008</td>\n",
       "      <td>0.04</td>\n",
       "      <td>0.01</td>\n",
       "      <td>4.24</td>\n",
       "      <td>0</td>\n",
       "      <td>1</td>\n",
       "    </tr>\n",
       "    <tr>\n",
       "      <th>3</th>\n",
       "      <td>1.36</td>\n",
       "      <td>0.001</td>\n",
       "      <td>0.04</td>\n",
       "      <td>0.05</td>\n",
       "      <td>7.23</td>\n",
       "      <td>1</td>\n",
       "      <td>1</td>\n",
       "    </tr>\n",
       "    <tr>\n",
       "      <th>4</th>\n",
       "      <td>0.92</td>\n",
       "      <td>0.006</td>\n",
       "      <td>0.03</td>\n",
       "      <td>0.02</td>\n",
       "      <td>2.67</td>\n",
       "      <td>1</td>\n",
       "      <td>0</td>\n",
       "    </tr>\n",
       "    <tr>\n",
       "      <th>...</th>\n",
       "      <td>...</td>\n",
       "      <td>...</td>\n",
       "      <td>...</td>\n",
       "      <td>...</td>\n",
       "      <td>...</td>\n",
       "      <td>...</td>\n",
       "      <td>...</td>\n",
       "    </tr>\n",
       "    <tr>\n",
       "      <th>7994</th>\n",
       "      <td>0.05</td>\n",
       "      <td>0.040</td>\n",
       "      <td>0.00</td>\n",
       "      <td>0.03</td>\n",
       "      <td>0.10</td>\n",
       "      <td>1</td>\n",
       "      <td>0</td>\n",
       "    </tr>\n",
       "    <tr>\n",
       "      <th>7995</th>\n",
       "      <td>0.05</td>\n",
       "      <td>0.010</td>\n",
       "      <td>0.02</td>\n",
       "      <td>0.08</td>\n",
       "      <td>0.45</td>\n",
       "      <td>1</td>\n",
       "      <td>0</td>\n",
       "    </tr>\n",
       "    <tr>\n",
       "      <th>7996</th>\n",
       "      <td>0.09</td>\n",
       "      <td>0.030</td>\n",
       "      <td>0.00</td>\n",
       "      <td>0.05</td>\n",
       "      <td>0.05</td>\n",
       "      <td>1</td>\n",
       "      <td>0</td>\n",
       "    </tr>\n",
       "    <tr>\n",
       "      <th>7997</th>\n",
       "      <td>0.01</td>\n",
       "      <td>0.000</td>\n",
       "      <td>0.01</td>\n",
       "      <td>0.00</td>\n",
       "      <td>2.00</td>\n",
       "      <td>1</td>\n",
       "      <td>0</td>\n",
       "    </tr>\n",
       "    <tr>\n",
       "      <th>7998</th>\n",
       "      <td>0.04</td>\n",
       "      <td>0.030</td>\n",
       "      <td>0.01</td>\n",
       "      <td>0.05</td>\n",
       "      <td>0.05</td>\n",
       "      <td>1</td>\n",
       "      <td>0</td>\n",
       "    </tr>\n",
       "  </tbody>\n",
       "</table>\n",
       "<p>7996 rows × 7 columns</p>\n",
       "</div>"
      ],
      "text/plain": [
       "      aluminium  cadmium  arsenic  uranium  chloramine  is_safe  unsuper_pred\n",
       "0          1.65    0.007     0.04     0.02        0.35        1             0\n",
       "1          2.32    0.002     0.01     0.05        5.28        1             1\n",
       "2          1.01    0.008     0.04     0.01        4.24        0             1\n",
       "3          1.36    0.001     0.04     0.05        7.23        1             1\n",
       "4          0.92    0.006     0.03     0.02        2.67        1             0\n",
       "...         ...      ...      ...      ...         ...      ...           ...\n",
       "7994       0.05    0.040     0.00     0.03        0.10        1             0\n",
       "7995       0.05    0.010     0.02     0.08        0.45        1             0\n",
       "7996       0.09    0.030     0.00     0.05        0.05        1             0\n",
       "7997       0.01    0.000     0.01     0.00        2.00        1             0\n",
       "7998       0.04    0.030     0.01     0.05        0.05        1             0\n",
       "\n",
       "[7996 rows x 7 columns]"
      ]
     },
     "execution_count": 51,
     "metadata": {},
     "output_type": "execute_result"
    }
   ],
   "source": [
    "#create a new dataset: data+unsupervised prediction\n",
    "    \n",
    "data=pd.DataFrame(wa[['aluminium','cadmium','arsenic','uranium','chloramine','is_safe']], columns=['aluminium','cadmium','arsenic','uranium','chloramine','is_safe'])\n",
    "X=data[['aluminium','cadmium','arsenic','uranium','chloramine']]\n",
    "y=data['is_safe']\n",
    "stand = StandardScaler()\n",
    "X = stand.fit_transform(X)\n",
    "X_train, X_test, y_train, y_test = train_test_split(X, y, test_size=0.2, random_state=20)\n",
    "X_train, X_val, y_train, y_val = train_test_split(X_train, y_train, test_size=0.25, random_state=20)\n",
    "kmeans = KMeans(n_clusters=2, random_state=0).fit(X_train)\n",
    "pred=kmeans.predict(X)\n",
    "data['unsuper_pred']=pred\n",
    "data"
   ]
  },
  {
   "cell_type": "code",
   "execution_count": 53,
   "id": "b804fa55",
   "metadata": {},
   "outputs": [
    {
     "data": {
      "text/html": [
       "<div>\n",
       "<style scoped>\n",
       "    .dataframe tbody tr th:only-of-type {\n",
       "        vertical-align: middle;\n",
       "    }\n",
       "\n",
       "    .dataframe tbody tr th {\n",
       "        vertical-align: top;\n",
       "    }\n",
       "\n",
       "    .dataframe thead th {\n",
       "        text-align: right;\n",
       "    }\n",
       "</style>\n",
       "<table border=\"1\" class=\"dataframe\">\n",
       "  <thead>\n",
       "    <tr style=\"text-align: right;\">\n",
       "      <th></th>\n",
       "      <th>aluminium</th>\n",
       "      <th>cadmium</th>\n",
       "      <th>arsenic</th>\n",
       "      <th>uranium</th>\n",
       "      <th>chloramine</th>\n",
       "      <th>is_safe</th>\n",
       "      <th>unsuper_pred</th>\n",
       "    </tr>\n",
       "  </thead>\n",
       "  <tbody>\n",
       "    <tr>\n",
       "      <th>aluminium</th>\n",
       "      <td>1.000000</td>\n",
       "      <td>-0.099902</td>\n",
       "      <td>0.225725</td>\n",
       "      <td>0.014723</td>\n",
       "      <td>0.369221</td>\n",
       "      <td>0.333974</td>\n",
       "      <td>0.576540</td>\n",
       "    </tr>\n",
       "    <tr>\n",
       "      <th>cadmium</th>\n",
       "      <td>-0.099902</td>\n",
       "      <td>1.000000</td>\n",
       "      <td>0.334782</td>\n",
       "      <td>-0.005911</td>\n",
       "      <td>-0.144366</td>\n",
       "      <td>-0.256034</td>\n",
       "      <td>-0.025947</td>\n",
       "    </tr>\n",
       "    <tr>\n",
       "      <th>arsenic</th>\n",
       "      <td>0.225725</td>\n",
       "      <td>0.334782</td>\n",
       "      <td>1.000000</td>\n",
       "      <td>0.001469</td>\n",
       "      <td>0.356509</td>\n",
       "      <td>-0.123362</td>\n",
       "      <td>0.557773</td>\n",
       "    </tr>\n",
       "    <tr>\n",
       "      <th>uranium</th>\n",
       "      <td>0.014723</td>\n",
       "      <td>-0.005911</td>\n",
       "      <td>0.001469</td>\n",
       "      <td>1.000000</td>\n",
       "      <td>-0.007648</td>\n",
       "      <td>-0.075619</td>\n",
       "      <td>0.001885</td>\n",
       "    </tr>\n",
       "    <tr>\n",
       "      <th>chloramine</th>\n",
       "      <td>0.369221</td>\n",
       "      <td>-0.144366</td>\n",
       "      <td>0.356509</td>\n",
       "      <td>-0.007648</td>\n",
       "      <td>1.000000</td>\n",
       "      <td>0.186704</td>\n",
       "      <td>0.798474</td>\n",
       "    </tr>\n",
       "    <tr>\n",
       "      <th>is_safe</th>\n",
       "      <td>0.333974</td>\n",
       "      <td>-0.256034</td>\n",
       "      <td>-0.123362</td>\n",
       "      <td>-0.075619</td>\n",
       "      <td>0.186704</td>\n",
       "      <td>1.000000</td>\n",
       "      <td>0.215301</td>\n",
       "    </tr>\n",
       "    <tr>\n",
       "      <th>unsuper_pred</th>\n",
       "      <td>0.576540</td>\n",
       "      <td>-0.025947</td>\n",
       "      <td>0.557773</td>\n",
       "      <td>0.001885</td>\n",
       "      <td>0.798474</td>\n",
       "      <td>0.215301</td>\n",
       "      <td>1.000000</td>\n",
       "    </tr>\n",
       "  </tbody>\n",
       "</table>\n",
       "</div>"
      ],
      "text/plain": [
       "              aluminium   cadmium   arsenic   uranium  chloramine   is_safe  \\\n",
       "aluminium      1.000000 -0.099902  0.225725  0.014723    0.369221  0.333974   \n",
       "cadmium       -0.099902  1.000000  0.334782 -0.005911   -0.144366 -0.256034   \n",
       "arsenic        0.225725  0.334782  1.000000  0.001469    0.356509 -0.123362   \n",
       "uranium        0.014723 -0.005911  0.001469  1.000000   -0.007648 -0.075619   \n",
       "chloramine     0.369221 -0.144366  0.356509 -0.007648    1.000000  0.186704   \n",
       "is_safe        0.333974 -0.256034 -0.123362 -0.075619    0.186704  1.000000   \n",
       "unsuper_pred   0.576540 -0.025947  0.557773  0.001885    0.798474  0.215301   \n",
       "\n",
       "              unsuper_pred  \n",
       "aluminium         0.576540  \n",
       "cadmium          -0.025947  \n",
       "arsenic           0.557773  \n",
       "uranium           0.001885  \n",
       "chloramine        0.798474  \n",
       "is_safe           0.215301  \n",
       "unsuper_pred      1.000000  "
      ]
     },
     "execution_count": 53,
     "metadata": {},
     "output_type": "execute_result"
    }
   ],
   "source": [
    "data.corr()"
   ]
  },
  {
   "cell_type": "markdown",
   "id": "f8e66bd3",
   "metadata": {},
   "source": [
    "#feature--unsupervised data model"
   ]
  },
  {
   "cell_type": "code",
   "execution_count": 55,
   "id": "96639432",
   "metadata": {},
   "outputs": [
    {
     "name": "stdout",
     "output_type": "stream",
     "text": [
      "LogisticRegression train features_unsupervised data accuracy 0.993125\n",
      "\n",
      "classification_report\n",
      "              precision    recall  f1-score   support\n",
      "\n",
      "           0       1.00      0.99      0.99       990\n",
      "           1       0.99      1.00      0.99       610\n",
      "\n",
      "    accuracy                           0.99      1600\n",
      "   macro avg       0.99      0.99      0.99      1600\n",
      "weighted avg       0.99      0.99      0.99      1600\n",
      "\n"
     ]
    }
   ],
   "source": [
    "# LogisticRegression on 5-features-unsupervised model, accuracy is high: 2 clusters separate group clearly.\n",
    "X5=data[['aluminium','cadmium','arsenic','uranium','chloramine']]\n",
    "y=data['unsuper_pred']\n",
    "X5_train, X5_test, y_train, y_test = train_test_split(X5, y, test_size=0.2, random_state=20)\n",
    "lor=LogisticRegression(random_state=0, max_iter=10000)\n",
    "lor.fit(X5_train, y_train)\n",
    "lorunsup_pred=lor.predict(X5)\n",
    "\n",
    "print('LogisticRegression train features_unsupervised data accuracy',accuracy_score(y_test,lor.predict(X5_test)))\n",
    "print('')\n",
    "print('classification_report')\n",
    "#feature_unspervised result in LogisticRegression model\n",
    "from sklearn.metrics import classification_report\n",
    "print(classification_report(y_test, lor.predict(X5_test)))"
   ]
  },
  {
   "cell_type": "code",
   "execution_count": 56,
   "id": "1533c8ec",
   "metadata": {},
   "outputs": [
    {
     "data": {
      "text/plain": [
       "array([[ 3.16737174,  1.06009767, 13.59111994,  0.30075656,  2.17884938]])"
      ]
     },
     "execution_count": 56,
     "metadata": {},
     "output_type": "execute_result"
    }
   ],
   "source": [
    "lor.coef_"
   ]
  },
  {
   "cell_type": "code",
   "execution_count": 57,
   "id": "bbdaf81e",
   "metadata": {},
   "outputs": [
    {
     "data": {
      "text/plain": [
       "<sklearn.metrics._plot.roc_curve.RocCurveDisplay at 0x1a580334be0>"
      ]
     },
     "execution_count": 57,
     "metadata": {},
     "output_type": "execute_result"
    },
    {
     "data": {
      "image/png": "[encoded data removed]",
      "text/plain": [
       "<Figure size 432x288 with 1 Axes>"
      ]
     },
     "metadata": {
      "needs_background": "light"
     },
     "output_type": "display_data"
    }
   ],
   "source": [
    "from sklearn.metrics import RocCurveDisplay\n",
    "RocCurveDisplay.from_estimator(lor, X5_test, y_test)"
   ]
  },
  {
   "cell_type": "code",
   "execution_count": 58,
   "id": "92d60bb3",
   "metadata": {},
   "outputs": [
    {
     "data": {
      "text/plain": [
       "<sklearn.metrics._plot.precision_recall_curve.PrecisionRecallDisplay at 0x1a5843281c0>"
      ]
     },
     "execution_count": 58,
     "metadata": {},
     "output_type": "execute_result"
    },
    {
     "data": {
      "image/png": "[encoded data removed]",
      "text/plain": [
       "<Figure size 432x288 with 1 Axes>"
      ]
     },
     "metadata": {
      "needs_background": "light"
     },
     "output_type": "display_data"
    }
   ],
   "source": [
    "from sklearn.metrics import PrecisionRecallDisplay\n",
    "PrecisionRecallDisplay.from_estimator(lor, X5_test, y_test)"
   ]
  },
  {
   "cell_type": "code",
   "execution_count": 66,
   "id": "07f24075",
   "metadata": {},
   "outputs": [
    {
     "data": {
      "image/png": "[encoded data removed]",
      "text/plain": [
       "<Figure size 432x288 with 4 Axes>"
      ]
     },
     "metadata": {},
     "output_type": "display_data"
    }
   ],
   "source": [
    "#visilised that how unsupervised model train data by adjusting the features' probability to be clusters\n",
    "#first row is original data, second row is unsuerpvised data\n",
    "sns.set()\n",
    "fig, axes = plt.subplots(2, 2)\n",
    "sns.regplot(x=data['aluminium'], y=data['is_safe'], data=data, logistic=True, ci=None, ax=axes[0,0]).set(title='visulize logistic regression')\n",
    "sns.regplot(x=data['cadmium'], y=data['is_safe'], data=data, logistic=True, ci=None, ax=axes[0,1])\n",
    "sns.regplot(x=data['aluminium'], y=data['unsuper_pred'], data=data, logistic=True, ci=None, ax=axes[1,0])\n",
    "sns.regplot(x=data['cadmium'], y=data['unsuper_pred'], data=data, logistic=True, ci=None, ax=axes[1,1])\n",
    "plt.show()"
   ]
  },
  {
   "cell_type": "code",
   "execution_count": 48,
   "id": "f92984b8",
   "metadata": {
    "scrolled": true
   },
   "outputs": [
    {
     "data": {
      "image/png": "[encoded data removed]",
      "text/plain": [
       "<Figure size 432x288 with 2 Axes>"
      ]
     },
     "metadata": {
      "needs_background": "light"
     },
     "output_type": "display_data"
    }
   ],
   "source": [
    "#visilised that how unsupervised model change data distribution, pick up 2 features among 5 features\n",
    "\n",
    "fig, axes = plt.subplots(1,2)\n",
    "sns.scatterplot(x=\"arsenic\", y=\"chloramine\", hue=\"is_safe\", data=newdata,ax=axes[0])\n",
    "sns.scatterplot(x=\"arsenic\", y=\"chloramine\", hue=\"all_pred\", data=newdata,ax=axes[1])\n",
    "plt.show()"
   ]
  },
  {
   "cell_type": "code",
   "execution_count": null,
   "id": "6a35d7b2",
   "metadata": {},
   "outputs": [],
   "source": []
  },
  {
   "cell_type": "raw",
   "id": "49a72f6c",
   "metadata": {},
   "source": [
    "# evaluate unsupervised prediction( 5 features model VS 2 features model)"
   ]
  },
  {
   "cell_type": "code",
   "execution_count": 69,
   "id": "9e09b2e6",
   "metadata": {},
   "outputs": [
    {
     "data": {
      "text/plain": [
       "0.6689594797398699"
      ]
     },
     "execution_count": 69,
     "metadata": {},
     "output_type": "execute_result"
    }
   ],
   "source": [
    "#5 features' unsupervised model accuracy\n",
    "from sklearn.metrics import accuracy_score\n",
    "accuracy_score(data['is_safe'],data['unsuper_pred'])"
   ]
  },
  {
   "cell_type": "code",
   "execution_count": 70,
   "id": "bdea248f",
   "metadata": {
    "scrolled": true
   },
   "outputs": [
    {
     "name": "stdout",
     "output_type": "stream",
     "text": [
      "              precision    recall  f1-score   support\n",
      "\n",
      "           0       0.94      0.67      0.78      7084\n",
      "           1       0.20      0.66      0.31       912\n",
      "\n",
      "    accuracy                           0.67      7996\n",
      "   macro avg       0.57      0.66      0.55      7996\n",
      "weighted avg       0.85      0.67      0.73      7996\n",
      "\n"
     ]
    }
   ],
   "source": [
    "# 5 features' unsupervised model not perform well to predict class 1, only 20% chance to predict right class 1\n",
    "# 5 features' unsupervised model good to show how model train data,but not show better result comparing with 2fetures unsupervised model\n",
    "print(classification_report(data['is_safe'],data['unsuper_pred']))"
   ]
  },
  {
   "cell_type": "code",
   "execution_count": 72,
   "id": "986db2fa",
   "metadata": {},
   "outputs": [
    {
     "data": {
      "text/plain": [
       "<sklearn.metrics._plot.precision_recall_curve.PrecisionRecallDisplay at 0x1a585053520>"
      ]
     },
     "execution_count": 72,
     "metadata": {},
     "output_type": "execute_result"
    },
    {
     "data": {
      "image/png": "[encoded data removed]",
      "text/plain": [
       "<Figure size 432x288 with 1 Axes>"
      ]
     },
     "metadata": {},
     "output_type": "display_data"
    }
   ],
   "source": [
    "#5 features' unsupervised model precision-recall curve\n",
    "from sklearn.metrics import PrecisionRecallDisplay\n",
    "PrecisionRecallDisplay.from_predictions(data['is_safe'],data['unsuper_pred'])"
   ]
  },
  {
   "cell_type": "code",
   "execution_count": 76,
   "id": "7b0604d1",
   "metadata": {},
   "outputs": [
    {
     "name": "stdout",
     "output_type": "stream",
     "text": [
      "2 features(aluminium,cadmium_ safe water)model,\n",
      " train set accuracy 0.8355222013758599,\n",
      " validation set accuracy 0.8430268918073797,\n",
      " data point group 1 contains1356, group 2 contains243\n"
     ]
    }
   ],
   "source": [
    "# 2features('cadmium','aluminium') unsupervised model\n",
    "X1=data[['cadmium','aluminium']]\n",
    "y=data['is_safe']\n",
    "stand = StandardScaler()\n",
    "X1 = stand.fit_transform(X1)\n",
    "X1_train, X1_test, y_train, y_test = train_test_split(X1, y, test_size=0.2, random_state=20)\n",
    "X1_train, X1_val, y_train, y_val = train_test_split(X1_train, y_train, test_size=0.25, random_state=20)\n",
    "kmeans = KMeans(n_clusters=2, random_state=0).fit(X1_train)\n",
    "kmeans_pred=kmeans.predict(X1_train)\n",
    "val_ed=kmeans.predict(X1_val)\n",
    "all_pred=kmeans.predict(X1)\n",
    "data['2feature_pred']=all_pred\n",
    "print('2 features(aluminium,cadmium_ safe water)model,\\n train set accuracy %s,\\n validation set accuracy %s,\\n data point group 1 contains%s, group 2 contains%s' \n",
    "      %(accuracy_score(y_train, kmeans_pred),accuracy_score(y_val, val_ed), list(val_ed).count(0), list(val_ed).count(1)))"
   ]
  },
  {
   "cell_type": "code",
   "execution_count": 75,
   "id": "decd8d1e",
   "metadata": {},
   "outputs": [
    {
     "data": {
      "text/plain": [
       "0.8351675837918959"
      ]
     },
     "execution_count": 75,
     "metadata": {},
     "output_type": "execute_result"
    }
   ],
   "source": [
    "#2 features' unsupervised model accuracy\n",
    "accuracy_score(data['is_safe'],data['2feature_pred'])"
   ]
  },
  {
   "cell_type": "code",
   "execution_count": 77,
   "id": "49519c26",
   "metadata": {},
   "outputs": [
    {
     "name": "stdout",
     "output_type": "stream",
     "text": [
      "              precision    recall  f1-score   support\n",
      "\n",
      "           0       0.93      0.88      0.90      7084\n",
      "           1       0.34      0.49      0.40       912\n",
      "\n",
      "    accuracy                           0.84      7996\n",
      "   macro avg       0.64      0.69      0.65      7996\n",
      "weighted avg       0.86      0.84      0.85      7996\n",
      "\n"
     ]
    }
   ],
   "source": [
    "print(classification_report(data['is_safe'],data['2feature_pred']))"
   ]
  },
  {
   "cell_type": "code",
   "execution_count": 78,
   "id": "3c8843bb",
   "metadata": {},
   "outputs": [
    {
     "data": {
      "text/plain": [
       "<sklearn.metrics._plot.precision_recall_curve.PrecisionRecallDisplay at 0x1a5847ccd00>"
      ]
     },
     "execution_count": 78,
     "metadata": {},
     "output_type": "execute_result"
    },
    {
     "data": {
      "image/png": "[encoded data removed]",
      "text/plain": [
       "<Figure size 432x288 with 1 Axes>"
      ]
     },
     "metadata": {},
     "output_type": "display_data"
    }
   ],
   "source": [
    "# 2 features' unsupervised model precision-recall curve\n",
    "PrecisionRecallDisplay.from_predictions(data['is_safe'],data['2feature_pred'])"
   ]
  },
  {
   "cell_type": "markdown",
   "id": "2caabe38",
   "metadata": {},
   "source": [
    "#conclusion:\n",
    "\"\"\"\n",
    "when choose all featuers at start, unsurpervised model K_means and DBSCAN work not well. K_means has better result \n",
    "when reduce featue in K_means model, accuracy is getting higer:\n",
    "    final model is 2 clusters('aluminium, cadmium-safe water'), validation set accuracy 0.8430268918073797\n",
    "when PCA imply in the 2 clusters('aluminium, cadmium-safe water') model, 2 new component explained 99.99% data\n",
    "\n",
    "use unsupervised 5 cluster model ('aluminium','cadmium','arsenic','uranium','chloramine''aluminium, cadmium') predict datapoint, the accuracy is 0.6689594797398699, however, precision and recall for class 1 is not ideal, only 20% chance to predict right class 1. low precision-recall curve(0.17) show that 5 featuers is not suitable to predict imbalance origianl dataset \n",
    " \n",
    "use unsupervised 2 cluster model ('aluminium, cadmium') predict datapoint, the accuracy is 0.8351675837918959\n",
    "2 featues' unsupervised model classfication report result is better than 5 feautres' unsupervised model,  better precision-recall curve(0.23)\n",
    "\n",
    "therefore, optimal method is w features' unsupervised model\n",
    "water with high aluminium and low cadmium has higher posibility being safe  \n",
    "\n",
    "further reseach: aluminium has more heavy weight outliers, result might be improved when only choose 95% aluminium data\n",
    "\"\"\""
   ]
  },
  {
   "cell_type": "markdown",
   "id": "46632df2",
   "metadata": {},
   "source": [
    "data source:\n",
    "https://www.kaggle.com/datasets/mssmartypants/water-quality"
   ]
  }
 ],
 "metadata": {
  "kernelspec": {
   "display_name": "Python 3 (ipykernel)",
   "language": "python",
   "name": "python3"
  },
  "language_info": {
   "codemirror_mode": {
    "name": "ipython",
    "version": 3
   },
   "file_extension": ".py",
   "mimetype": "text/x-python",
   "name": "python",
   "nbconvert_exporter": "python",
   "pygments_lexer": "ipython3",
   "version": "3.9.12"
  }
 },
 "nbformat": 4,
 "nbformat_minor": 5
}
